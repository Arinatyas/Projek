{
  "cells": [
    {
      "cell_type": "code",
      "execution_count": null,
      "metadata": {
        "colab": {
          "base_uri": "https://localhost:8080/"
        },
        "id": "mIWLp7383mU1",
        "outputId": "b4a05052-e110-49f9-c488-d9c92450c652"
      },
      "outputs": [
        {
          "output_type": "stream",
          "name": "stdout",
          "text": [
            "Collecting Sastrawi\n",
            "  Downloading Sastrawi-1.0.1-py2.py3-none-any.whl.metadata (909 bytes)\n",
            "Downloading Sastrawi-1.0.1-py2.py3-none-any.whl (209 kB)\n",
            "\u001b[?25l   \u001b[90m━━━━━━━━━━━━━━━━━━━━━━━━━━━━━━━━━━━━━━━━\u001b[0m \u001b[32m0.0/209.7 kB\u001b[0m \u001b[31m?\u001b[0m eta \u001b[36m-:--:--\u001b[0m\r\u001b[2K   \u001b[91m━━━━━━━━━━━━━\u001b[0m\u001b[91m╸\u001b[0m\u001b[90m━━━━━━━━━━━━━━━━━━━━━━━━━━\u001b[0m \u001b[32m71.7/209.7 kB\u001b[0m \u001b[31m2.2 MB/s\u001b[0m eta \u001b[36m0:00:01\u001b[0m\r\u001b[2K   \u001b[90m━━━━━━━━━━━━━━━━━━━━━━━━━━━━━━━━━━━━━━━━\u001b[0m \u001b[32m209.7/209.7 kB\u001b[0m \u001b[31m3.1 MB/s\u001b[0m eta \u001b[36m0:00:00\u001b[0m\n",
            "\u001b[?25hInstalling collected packages: Sastrawi\n",
            "Successfully installed Sastrawi-1.0.1\n",
            "Collecting gensim\n",
            "  Downloading gensim-4.3.3-cp311-cp311-manylinux_2_17_x86_64.manylinux2014_x86_64.whl.metadata (8.1 kB)\n",
            "Collecting numpy<2.0,>=1.18.5 (from gensim)\n",
            "  Downloading numpy-1.26.4-cp311-cp311-manylinux_2_17_x86_64.manylinux2014_x86_64.whl.metadata (61 kB)\n",
            "\u001b[2K     \u001b[90m━━━━━━━━━━━━━━━━━━━━━━━━━━━━━━━━━━━━━━━━\u001b[0m \u001b[32m61.0/61.0 kB\u001b[0m \u001b[31m2.2 MB/s\u001b[0m eta \u001b[36m0:00:00\u001b[0m\n",
            "\u001b[?25hCollecting scipy<1.14.0,>=1.7.0 (from gensim)\n",
            "  Downloading scipy-1.13.1-cp311-cp311-manylinux_2_17_x86_64.manylinux2014_x86_64.whl.metadata (60 kB)\n",
            "\u001b[2K     \u001b[90m━━━━━━━━━━━━━━━━━━━━━━━━━━━━━━━━━━━━━━━━\u001b[0m \u001b[32m60.6/60.6 kB\u001b[0m \u001b[31m2.3 MB/s\u001b[0m eta \u001b[36m0:00:00\u001b[0m\n",
            "\u001b[?25hRequirement already satisfied: smart-open>=1.8.1 in /usr/local/lib/python3.11/dist-packages (from gensim) (7.1.0)\n",
            "Requirement already satisfied: wrapt in /usr/local/lib/python3.11/dist-packages (from smart-open>=1.8.1->gensim) (1.17.2)\n",
            "Downloading gensim-4.3.3-cp311-cp311-manylinux_2_17_x86_64.manylinux2014_x86_64.whl (26.7 MB)\n",
            "\u001b[2K   \u001b[90m━━━━━━━━━━━━━━━━━━━━━━━━━━━━━━━━━━━━━━━━\u001b[0m \u001b[32m26.7/26.7 MB\u001b[0m \u001b[31m81.9 MB/s\u001b[0m eta \u001b[36m0:00:00\u001b[0m\n",
            "\u001b[?25hDownloading numpy-1.26.4-cp311-cp311-manylinux_2_17_x86_64.manylinux2014_x86_64.whl (18.3 MB)\n",
            "\u001b[2K   \u001b[90m━━━━━━━━━━━━━━━━━━━━━━━━━━━━━━━━━━━━━━━━\u001b[0m \u001b[32m18.3/18.3 MB\u001b[0m \u001b[31m95.4 MB/s\u001b[0m eta \u001b[36m0:00:00\u001b[0m\n",
            "\u001b[?25hDownloading scipy-1.13.1-cp311-cp311-manylinux_2_17_x86_64.manylinux2014_x86_64.whl (38.6 MB)\n",
            "\u001b[2K   \u001b[90m━━━━━━━━━━━━━━━━━━━━━━━━━━━━━━━━━━━━━━━━\u001b[0m \u001b[32m38.6/38.6 MB\u001b[0m \u001b[31m14.5 MB/s\u001b[0m eta \u001b[36m0:00:00\u001b[0m\n",
            "\u001b[?25hInstalling collected packages: numpy, scipy, gensim\n",
            "  Attempting uninstall: numpy\n",
            "    Found existing installation: numpy 2.0.2\n",
            "    Uninstalling numpy-2.0.2:\n",
            "      Successfully uninstalled numpy-2.0.2\n",
            "  Attempting uninstall: scipy\n",
            "    Found existing installation: scipy 1.15.3\n",
            "    Uninstalling scipy-1.15.3:\n",
            "      Successfully uninstalled scipy-1.15.3\n",
            "\u001b[31mERROR: pip's dependency resolver does not currently take into account all the packages that are installed. This behaviour is the source of the following dependency conflicts.\n",
            "thinc 8.3.6 requires numpy<3.0.0,>=2.0.0, but you have numpy 1.26.4 which is incompatible.\n",
            "tsfresh 0.21.0 requires scipy>=1.14.0; python_version >= \"3.10\", but you have scipy 1.13.1 which is incompatible.\u001b[0m\u001b[31m\n",
            "\u001b[0mSuccessfully installed gensim-4.3.3 numpy-1.26.4 scipy-1.13.1\n"
          ]
        }
      ],
      "source": [
        "!pip install Sastrawi\n",
        "!pip install gensim"
      ]
    },
    {
      "cell_type": "code",
      "execution_count": null,
      "metadata": {
        "colab": {
          "base_uri": "https://localhost:8080/",
          "height": 671
        },
        "id": "mAwE0nx04M7t",
        "outputId": "29c54220-bb22-4c7b-970f-247baebd79c7"
      },
      "outputs": [
        {
          "output_type": "stream",
          "name": "stdout",
          "text": [
            "Requirement already satisfied: gensim in /usr/local/lib/python3.11/dist-packages (4.3.3)\n",
            "Requirement already satisfied: numpy<2.0,>=1.18.5 in /usr/local/lib/python3.11/dist-packages (from gensim) (1.23.5)\n",
            "Requirement already satisfied: scipy<1.14.0,>=1.7.0 in /usr/local/lib/python3.11/dist-packages (from gensim) (1.13.1)\n",
            "Requirement already satisfied: smart-open>=1.8.1 in /usr/local/lib/python3.11/dist-packages (from gensim) (7.1.0)\n",
            "Requirement already satisfied: wrapt in /usr/local/lib/python3.11/dist-packages (from smart-open>=1.8.1->gensim) (1.17.2)\n",
            "Collecting numpy==1.23.5\n",
            "  Using cached numpy-1.23.5-cp311-cp311-manylinux_2_17_x86_64.manylinux2014_x86_64.whl.metadata (2.3 kB)\n",
            "Using cached numpy-1.23.5-cp311-cp311-manylinux_2_17_x86_64.manylinux2014_x86_64.whl (17.1 MB)\n",
            "Installing collected packages: numpy\n",
            "  Attempting uninstall: numpy\n",
            "    Found existing installation: numpy 1.23.5\n",
            "    Uninstalling numpy-1.23.5:\n",
            "      Successfully uninstalled numpy-1.23.5\n",
            "\u001b[31mERROR: pip's dependency resolver does not currently take into account all the packages that are installed. This behaviour is the source of the following dependency conflicts.\n",
            "chex 0.1.89 requires numpy>=1.24.1, but you have numpy 1.23.5 which is incompatible.\n",
            "pymc 5.22.0 requires numpy>=1.25.0, but you have numpy 1.23.5 which is incompatible.\n",
            "scikit-image 0.25.2 requires numpy>=1.24, but you have numpy 1.23.5 which is incompatible.\n",
            "xarray 2025.3.1 requires numpy>=1.24, but you have numpy 1.23.5 which is incompatible.\n",
            "jaxlib 0.5.1 requires numpy>=1.25, but you have numpy 1.23.5 which is incompatible.\n",
            "tensorflow 2.18.0 requires numpy<2.1.0,>=1.26.0, but you have numpy 1.23.5 which is incompatible.\n",
            "albucore 0.0.24 requires numpy>=1.24.4, but you have numpy 1.23.5 which is incompatible.\n",
            "albumentations 2.0.7 requires numpy>=1.24.4, but you have numpy 1.23.5 which is incompatible.\n",
            "thinc 8.3.6 requires numpy<3.0.0,>=2.0.0, but you have numpy 1.23.5 which is incompatible.\n",
            "imbalanced-learn 0.13.0 requires numpy<3,>=1.24.3, but you have numpy 1.23.5 which is incompatible.\n",
            "blosc2 3.3.3 requires numpy>=1.26, but you have numpy 1.23.5 which is incompatible.\n",
            "db-dtypes 1.4.3 requires numpy>=1.24.0, but you have numpy 1.23.5 which is incompatible.\n",
            "tsfresh 0.21.0 requires scipy>=1.14.0; python_version >= \"3.10\", but you have scipy 1.13.1 which is incompatible.\n",
            "bigframes 2.4.0 requires numpy>=1.24.0, but you have numpy 1.23.5 which is incompatible.\n",
            "jax 0.5.2 requires numpy>=1.25, but you have numpy 1.23.5 which is incompatible.\n",
            "treescope 0.1.9 requires numpy>=1.25.2, but you have numpy 1.23.5 which is incompatible.\u001b[0m\u001b[31m\n",
            "\u001b[0mSuccessfully installed numpy-1.23.5\n"
          ]
        },
        {
          "output_type": "display_data",
          "data": {
            "application/vnd.colab-display-data+json": {
              "pip_warning": {
                "packages": [
                  "numpy"
                ]
              },
              "id": "b6ff903f1f744886a752ea7f12f1f69a"
            }
          },
          "metadata": {}
        }
      ],
      "source": [
        "!pip install --upgrade gensim\n",
        "!pip install --force-reinstall numpy==1.23.5"
      ]
    },
    {
      "cell_type": "code",
      "execution_count": null,
      "metadata": {
        "colab": {
          "base_uri": "https://localhost:8080/"
        },
        "id": "wjP58U9o4NzA",
        "outputId": "ba07fef4-f9dd-42e9-8dd8-692c00007204"
      },
      "outputs": [
        {
          "output_type": "stream",
          "name": "stdout",
          "text": [
            "Requirement already satisfied: numpy==1.23.5 in /usr/local/lib/python3.11/dist-packages (1.23.5)\n"
          ]
        }
      ],
      "source": [
        "!pip install numpy==1.23.5"
      ]
    },
    {
      "cell_type": "code",
      "execution_count": null,
      "metadata": {
        "colab": {
          "base_uri": "https://localhost:8080/"
        },
        "id": "7poOSZEfpyNx",
        "outputId": "be8b292f-9416-4eaa-c6b6-f0446e34425c"
      },
      "outputs": [
        {
          "output_type": "stream",
          "name": "stderr",
          "text": [
            "[nltk_data] Downloading package punkt to /root/nltk_data...\n",
            "[nltk_data]   Unzipping tokenizers/punkt.zip.\n",
            "[nltk_data] Downloading package stopwords to /root/nltk_data...\n",
            "[nltk_data]   Unzipping corpora/stopwords.zip.\n",
            "Exception ignored on calling ctypes callback function: <function ThreadpoolController._find_libraries_with_dl_iterate_phdr.<locals>.match_library_callback at 0x7bbbeb6e7d80>\n",
            "Traceback (most recent call last):\n",
            "  File \"/usr/local/lib/python3.11/dist-packages/threadpoolctl.py\", line 1005, in match_library_callback\n",
            "    self._make_controller_from_path(filepath)\n",
            "  File \"/usr/local/lib/python3.11/dist-packages/threadpoolctl.py\", line 1187, in _make_controller_from_path\n",
            "    lib_controller = controller_class(\n",
            "                     ^^^^^^^^^^^^^^^^^\n",
            "  File \"/usr/local/lib/python3.11/dist-packages/threadpoolctl.py\", line 114, in __init__\n",
            "    self.dynlib = ctypes.CDLL(filepath, mode=_RTLD_NOLOAD)\n",
            "                  ^^^^^^^^^^^^^^^^^^^^^^^^^^^^^^^^^^^^^^^^\n",
            "  File \"/usr/lib/python3.11/ctypes/__init__.py\", line 376, in __init__\n",
            "    self._handle = _dlopen(self._name, mode)\n",
            "                   ^^^^^^^^^^^^^^^^^^^^^^^^^\n",
            "OSError: dlopen() error\n"
          ]
        }
      ],
      "source": [
        "from Sastrawi.Stemmer.StemmerFactory import StemmerFactory\n",
        "import matplotlib.pyplot as plt\n",
        "import numpy as np\n",
        "import pandas as pd\n",
        "import seaborn as sns\n",
        "from sklearn.feature_extraction.text import TfidfVectorizer, CountVectorizer\n",
        "from sklearn.decomposition import PCA\n",
        "from sklearn.svm import SVC\n",
        "from sklearn.metrics import accuracy_score, classification_report\n",
        "\n",
        "# Import pustaka NLP dan preprocessing\n",
        "import re\n",
        "import string  # <-- Tambahkan di sini\n",
        "import nltk\n",
        "from nltk.corpus import stopwords\n",
        "from nltk.tokenize import word_tokenize\n",
        "\n",
        "nltk.download('punkt')\n",
        "nltk.download('stopwords')\n",
        "stop_words = set(stopwords.words('indonesian'))\n",
        "\n",
        "# Pustaka machine learning\n",
        "from sklearn.model_selection import train_test_split\n",
        "from imblearn.over_sampling import SMOTE\n",
        "from collections import Counter\n",
        "from gensim.models import Word2Vec, FastText\n",
        "\n",
        "# Inisialisasi stemmer\n",
        "factory = StemmerFactory()\n",
        "stemmer = factory.create_stemmer()\n"
      ]
    },
    {
      "cell_type": "markdown",
      "metadata": {
        "id": "SFsKzjTGxu1i"
      },
      "source": [
        "DATA COLLECTION"
      ]
    },
    {
      "cell_type": "code",
      "execution_count": null,
      "metadata": {
        "colab": {
          "base_uri": "https://localhost:8080/",
          "height": 623
        },
        "id": "ZNiN1C0fx3_9",
        "outputId": "1773fe45-4aed-4384-a5fb-1faf90bf793f"
      },
      "outputs": [
        {
          "output_type": "execute_result",
          "data": {
            "text/plain": [
              "                Category                                       Product Name  \\\n",
              "0  Computers and Laptops  Wireless Keyboard i8 Mini TouchPad Mouse 2.4G ...   \n",
              "1  Computers and Laptops  PAKET LISENSI WINDOWS 10 PRO DAN OFFICE 2019 O...   \n",
              "2  Computers and Laptops                SSD Midasforce 128 Gb - Tanpa Caddy   \n",
              "3  Computers and Laptops  ADAPTOR CHARGER MONITOR LCD LED TV LG merek LG...   \n",
              "4  Computers and Laptops  ADAPTOR CHARGER MONITOR LCD LED TV LG merek LG...   \n",
              "\n",
              "                 Location   Price  Overall Rating  Number Sold  Total Review  \\\n",
              "0           Jakarta Utara   53500             4.9         5449          2369   \n",
              "1  Kota Tangerang Selatan   72000             4.9         2359          1044   \n",
              "2           Jakarta Barat  213000             5.0        12300          3573   \n",
              "3           Jakarta Timur   55000             4.7         2030           672   \n",
              "4           Jakarta Timur   55000             4.7         2030           672   \n",
              "\n",
              "   Customer Rating                                    Customer Review  \\\n",
              "0                5  Alhamdulillah berfungsi dengan baik. Packaging...   \n",
              "1                5  barang bagus dan respon cepat, harga bersaing ...   \n",
              "2                5  barang bagus, berfungsi dengan baik, seler ram...   \n",
              "3                5  bagus sesuai harapan penjual nya juga ramah. t...   \n",
              "4                5  Barang Bagus, pengemasan Aman, dapat Berfungsi...   \n",
              "\n",
              "  Sentiment Emotion  \n",
              "0  Positive   Happy  \n",
              "1  Positive   Happy  \n",
              "2  Positive   Happy  \n",
              "3  Positive   Happy  \n",
              "4  Positive   Happy  "
            ],
            "text/html": [
              "\n",
              "  <div id=\"df-32c8a411-cd2b-4e15-b33b-e0e6eee5e7e1\" class=\"colab-df-container\">\n",
              "    <div>\n",
              "<style scoped>\n",
              "    .dataframe tbody tr th:only-of-type {\n",
              "        vertical-align: middle;\n",
              "    }\n",
              "\n",
              "    .dataframe tbody tr th {\n",
              "        vertical-align: top;\n",
              "    }\n",
              "\n",
              "    .dataframe thead th {\n",
              "        text-align: right;\n",
              "    }\n",
              "</style>\n",
              "<table border=\"1\" class=\"dataframe\">\n",
              "  <thead>\n",
              "    <tr style=\"text-align: right;\">\n",
              "      <th></th>\n",
              "      <th>Category</th>\n",
              "      <th>Product Name</th>\n",
              "      <th>Location</th>\n",
              "      <th>Price</th>\n",
              "      <th>Overall Rating</th>\n",
              "      <th>Number Sold</th>\n",
              "      <th>Total Review</th>\n",
              "      <th>Customer Rating</th>\n",
              "      <th>Customer Review</th>\n",
              "      <th>Sentiment</th>\n",
              "      <th>Emotion</th>\n",
              "    </tr>\n",
              "  </thead>\n",
              "  <tbody>\n",
              "    <tr>\n",
              "      <th>0</th>\n",
              "      <td>Computers and Laptops</td>\n",
              "      <td>Wireless Keyboard i8 Mini TouchPad Mouse 2.4G ...</td>\n",
              "      <td>Jakarta Utara</td>\n",
              "      <td>53500</td>\n",
              "      <td>4.9</td>\n",
              "      <td>5449</td>\n",
              "      <td>2369</td>\n",
              "      <td>5</td>\n",
              "      <td>Alhamdulillah berfungsi dengan baik. Packaging...</td>\n",
              "      <td>Positive</td>\n",
              "      <td>Happy</td>\n",
              "    </tr>\n",
              "    <tr>\n",
              "      <th>1</th>\n",
              "      <td>Computers and Laptops</td>\n",
              "      <td>PAKET LISENSI WINDOWS 10 PRO DAN OFFICE 2019 O...</td>\n",
              "      <td>Kota Tangerang Selatan</td>\n",
              "      <td>72000</td>\n",
              "      <td>4.9</td>\n",
              "      <td>2359</td>\n",
              "      <td>1044</td>\n",
              "      <td>5</td>\n",
              "      <td>barang bagus dan respon cepat, harga bersaing ...</td>\n",
              "      <td>Positive</td>\n",
              "      <td>Happy</td>\n",
              "    </tr>\n",
              "    <tr>\n",
              "      <th>2</th>\n",
              "      <td>Computers and Laptops</td>\n",
              "      <td>SSD Midasforce 128 Gb - Tanpa Caddy</td>\n",
              "      <td>Jakarta Barat</td>\n",
              "      <td>213000</td>\n",
              "      <td>5.0</td>\n",
              "      <td>12300</td>\n",
              "      <td>3573</td>\n",
              "      <td>5</td>\n",
              "      <td>barang bagus, berfungsi dengan baik, seler ram...</td>\n",
              "      <td>Positive</td>\n",
              "      <td>Happy</td>\n",
              "    </tr>\n",
              "    <tr>\n",
              "      <th>3</th>\n",
              "      <td>Computers and Laptops</td>\n",
              "      <td>ADAPTOR CHARGER MONITOR LCD LED TV LG merek LG...</td>\n",
              "      <td>Jakarta Timur</td>\n",
              "      <td>55000</td>\n",
              "      <td>4.7</td>\n",
              "      <td>2030</td>\n",
              "      <td>672</td>\n",
              "      <td>5</td>\n",
              "      <td>bagus sesuai harapan penjual nya juga ramah. t...</td>\n",
              "      <td>Positive</td>\n",
              "      <td>Happy</td>\n",
              "    </tr>\n",
              "    <tr>\n",
              "      <th>4</th>\n",
              "      <td>Computers and Laptops</td>\n",
              "      <td>ADAPTOR CHARGER MONITOR LCD LED TV LG merek LG...</td>\n",
              "      <td>Jakarta Timur</td>\n",
              "      <td>55000</td>\n",
              "      <td>4.7</td>\n",
              "      <td>2030</td>\n",
              "      <td>672</td>\n",
              "      <td>5</td>\n",
              "      <td>Barang Bagus, pengemasan Aman, dapat Berfungsi...</td>\n",
              "      <td>Positive</td>\n",
              "      <td>Happy</td>\n",
              "    </tr>\n",
              "  </tbody>\n",
              "</table>\n",
              "</div>\n",
              "    <div class=\"colab-df-buttons\">\n",
              "\n",
              "  <div class=\"colab-df-container\">\n",
              "    <button class=\"colab-df-convert\" onclick=\"convertToInteractive('df-32c8a411-cd2b-4e15-b33b-e0e6eee5e7e1')\"\n",
              "            title=\"Convert this dataframe to an interactive table.\"\n",
              "            style=\"display:none;\">\n",
              "\n",
              "  <svg xmlns=\"http://www.w3.org/2000/svg\" height=\"24px\" viewBox=\"0 -960 960 960\">\n",
              "    <path d=\"M120-120v-720h720v720H120Zm60-500h600v-160H180v160Zm220 220h160v-160H400v160Zm0 220h160v-160H400v160ZM180-400h160v-160H180v160Zm440 0h160v-160H620v160ZM180-180h160v-160H180v160Zm440 0h160v-160H620v160Z\"/>\n",
              "  </svg>\n",
              "    </button>\n",
              "\n",
              "  <style>\n",
              "    .colab-df-container {\n",
              "      display:flex;\n",
              "      gap: 12px;\n",
              "    }\n",
              "\n",
              "    .colab-df-convert {\n",
              "      background-color: #E8F0FE;\n",
              "      border: none;\n",
              "      border-radius: 50%;\n",
              "      cursor: pointer;\n",
              "      display: none;\n",
              "      fill: #1967D2;\n",
              "      height: 32px;\n",
              "      padding: 0 0 0 0;\n",
              "      width: 32px;\n",
              "    }\n",
              "\n",
              "    .colab-df-convert:hover {\n",
              "      background-color: #E2EBFA;\n",
              "      box-shadow: 0px 1px 2px rgba(60, 64, 67, 0.3), 0px 1px 3px 1px rgba(60, 64, 67, 0.15);\n",
              "      fill: #174EA6;\n",
              "    }\n",
              "\n",
              "    .colab-df-buttons div {\n",
              "      margin-bottom: 4px;\n",
              "    }\n",
              "\n",
              "    [theme=dark] .colab-df-convert {\n",
              "      background-color: #3B4455;\n",
              "      fill: #D2E3FC;\n",
              "    }\n",
              "\n",
              "    [theme=dark] .colab-df-convert:hover {\n",
              "      background-color: #434B5C;\n",
              "      box-shadow: 0px 1px 3px 1px rgba(0, 0, 0, 0.15);\n",
              "      filter: drop-shadow(0px 1px 2px rgba(0, 0, 0, 0.3));\n",
              "      fill: #FFFFFF;\n",
              "    }\n",
              "  </style>\n",
              "\n",
              "    <script>\n",
              "      const buttonEl =\n",
              "        document.querySelector('#df-32c8a411-cd2b-4e15-b33b-e0e6eee5e7e1 button.colab-df-convert');\n",
              "      buttonEl.style.display =\n",
              "        google.colab.kernel.accessAllowed ? 'block' : 'none';\n",
              "\n",
              "      async function convertToInteractive(key) {\n",
              "        const element = document.querySelector('#df-32c8a411-cd2b-4e15-b33b-e0e6eee5e7e1');\n",
              "        const dataTable =\n",
              "          await google.colab.kernel.invokeFunction('convertToInteractive',\n",
              "                                                    [key], {});\n",
              "        if (!dataTable) return;\n",
              "\n",
              "        const docLinkHtml = 'Like what you see? Visit the ' +\n",
              "          '<a target=\"_blank\" href=https://colab.research.google.com/notebooks/data_table.ipynb>data table notebook</a>'\n",
              "          + ' to learn more about interactive tables.';\n",
              "        element.innerHTML = '';\n",
              "        dataTable['output_type'] = 'display_data';\n",
              "        await google.colab.output.renderOutput(dataTable, element);\n",
              "        const docLink = document.createElement('div');\n",
              "        docLink.innerHTML = docLinkHtml;\n",
              "        element.appendChild(docLink);\n",
              "      }\n",
              "    </script>\n",
              "  </div>\n",
              "\n",
              "\n",
              "    <div id=\"df-a26f3102-4b39-4e7e-b5ff-c6e53ae2817b\">\n",
              "      <button class=\"colab-df-quickchart\" onclick=\"quickchart('df-a26f3102-4b39-4e7e-b5ff-c6e53ae2817b')\"\n",
              "                title=\"Suggest charts\"\n",
              "                style=\"display:none;\">\n",
              "\n",
              "<svg xmlns=\"http://www.w3.org/2000/svg\" height=\"24px\"viewBox=\"0 0 24 24\"\n",
              "     width=\"24px\">\n",
              "    <g>\n",
              "        <path d=\"M19 3H5c-1.1 0-2 .9-2 2v14c0 1.1.9 2 2 2h14c1.1 0 2-.9 2-2V5c0-1.1-.9-2-2-2zM9 17H7v-7h2v7zm4 0h-2V7h2v10zm4 0h-2v-4h2v4z\"/>\n",
              "    </g>\n",
              "</svg>\n",
              "      </button>\n",
              "\n",
              "<style>\n",
              "  .colab-df-quickchart {\n",
              "      --bg-color: #E8F0FE;\n",
              "      --fill-color: #1967D2;\n",
              "      --hover-bg-color: #E2EBFA;\n",
              "      --hover-fill-color: #174EA6;\n",
              "      --disabled-fill-color: #AAA;\n",
              "      --disabled-bg-color: #DDD;\n",
              "  }\n",
              "\n",
              "  [theme=dark] .colab-df-quickchart {\n",
              "      --bg-color: #3B4455;\n",
              "      --fill-color: #D2E3FC;\n",
              "      --hover-bg-color: #434B5C;\n",
              "      --hover-fill-color: #FFFFFF;\n",
              "      --disabled-bg-color: #3B4455;\n",
              "      --disabled-fill-color: #666;\n",
              "  }\n",
              "\n",
              "  .colab-df-quickchart {\n",
              "    background-color: var(--bg-color);\n",
              "    border: none;\n",
              "    border-radius: 50%;\n",
              "    cursor: pointer;\n",
              "    display: none;\n",
              "    fill: var(--fill-color);\n",
              "    height: 32px;\n",
              "    padding: 0;\n",
              "    width: 32px;\n",
              "  }\n",
              "\n",
              "  .colab-df-quickchart:hover {\n",
              "    background-color: var(--hover-bg-color);\n",
              "    box-shadow: 0 1px 2px rgba(60, 64, 67, 0.3), 0 1px 3px 1px rgba(60, 64, 67, 0.15);\n",
              "    fill: var(--button-hover-fill-color);\n",
              "  }\n",
              "\n",
              "  .colab-df-quickchart-complete:disabled,\n",
              "  .colab-df-quickchart-complete:disabled:hover {\n",
              "    background-color: var(--disabled-bg-color);\n",
              "    fill: var(--disabled-fill-color);\n",
              "    box-shadow: none;\n",
              "  }\n",
              "\n",
              "  .colab-df-spinner {\n",
              "    border: 2px solid var(--fill-color);\n",
              "    border-color: transparent;\n",
              "    border-bottom-color: var(--fill-color);\n",
              "    animation:\n",
              "      spin 1s steps(1) infinite;\n",
              "  }\n",
              "\n",
              "  @keyframes spin {\n",
              "    0% {\n",
              "      border-color: transparent;\n",
              "      border-bottom-color: var(--fill-color);\n",
              "      border-left-color: var(--fill-color);\n",
              "    }\n",
              "    20% {\n",
              "      border-color: transparent;\n",
              "      border-left-color: var(--fill-color);\n",
              "      border-top-color: var(--fill-color);\n",
              "    }\n",
              "    30% {\n",
              "      border-color: transparent;\n",
              "      border-left-color: var(--fill-color);\n",
              "      border-top-color: var(--fill-color);\n",
              "      border-right-color: var(--fill-color);\n",
              "    }\n",
              "    40% {\n",
              "      border-color: transparent;\n",
              "      border-right-color: var(--fill-color);\n",
              "      border-top-color: var(--fill-color);\n",
              "    }\n",
              "    60% {\n",
              "      border-color: transparent;\n",
              "      border-right-color: var(--fill-color);\n",
              "    }\n",
              "    80% {\n",
              "      border-color: transparent;\n",
              "      border-right-color: var(--fill-color);\n",
              "      border-bottom-color: var(--fill-color);\n",
              "    }\n",
              "    90% {\n",
              "      border-color: transparent;\n",
              "      border-bottom-color: var(--fill-color);\n",
              "    }\n",
              "  }\n",
              "</style>\n",
              "\n",
              "      <script>\n",
              "        async function quickchart(key) {\n",
              "          const quickchartButtonEl =\n",
              "            document.querySelector('#' + key + ' button');\n",
              "          quickchartButtonEl.disabled = true;  // To prevent multiple clicks.\n",
              "          quickchartButtonEl.classList.add('colab-df-spinner');\n",
              "          try {\n",
              "            const charts = await google.colab.kernel.invokeFunction(\n",
              "                'suggestCharts', [key], {});\n",
              "          } catch (error) {\n",
              "            console.error('Error during call to suggestCharts:', error);\n",
              "          }\n",
              "          quickchartButtonEl.classList.remove('colab-df-spinner');\n",
              "          quickchartButtonEl.classList.add('colab-df-quickchart-complete');\n",
              "        }\n",
              "        (() => {\n",
              "          let quickchartButtonEl =\n",
              "            document.querySelector('#df-a26f3102-4b39-4e7e-b5ff-c6e53ae2817b button');\n",
              "          quickchartButtonEl.style.display =\n",
              "            google.colab.kernel.accessAllowed ? 'block' : 'none';\n",
              "        })();\n",
              "      </script>\n",
              "    </div>\n",
              "\n",
              "    </div>\n",
              "  </div>\n"
            ],
            "application/vnd.google.colaboratory.intrinsic+json": {
              "type": "dataframe",
              "variable_name": "df",
              "summary": "{\n  \"name\": \"df\",\n  \"rows\": 5400,\n  \"fields\": [\n    {\n      \"column\": \"Category\",\n      \"properties\": {\n        \"dtype\": \"category\",\n        \"num_unique_values\": 29,\n        \"samples\": [\n          \"Health\",\n          \"Electronics\",\n          \"Property\"\n        ],\n        \"semantic_type\": \"\",\n        \"description\": \"\"\n      }\n    },\n    {\n      \"column\": \"Product Name\",\n      \"properties\": {\n        \"dtype\": \"category\",\n        \"num_unique_values\": 1308,\n        \"samples\": [\n          \"UCHII Air Diffuser Aroma Therapy w/ Electric Night Bluetooth Speaker\",\n          \"(BARU) Buku Rich Dad Poor Dad . Robert T Kiyosaki Motivasi Best Seller\",\n          \"HIJAB SPORT INSTAN/ HIJAB OLAHRAGA/ HIJAB PET SPORT TERMURAH - Milo\"\n        ],\n        \"semantic_type\": \"\",\n        \"description\": \"\"\n      }\n    },\n    {\n      \"column\": \"Location\",\n      \"properties\": {\n        \"dtype\": \"category\",\n        \"num_unique_values\": 61,\n        \"samples\": [\n          \"Jakarta Utara\",\n          \"Jakarta Pusat\",\n          \"Pekalongan\"\n        ],\n        \"semantic_type\": \"\",\n        \"description\": \"\"\n      }\n    },\n    {\n      \"column\": \"Price\",\n      \"properties\": {\n        \"dtype\": \"number\",\n        \"std\": 801633,\n        \"min\": 100,\n        \"max\": 15399000,\n        \"num_unique_values\": 555,\n        \"samples\": [\n          76900,\n          339000,\n          308000\n        ],\n        \"semantic_type\": \"\",\n        \"description\": \"\"\n      }\n    },\n    {\n      \"column\": \"Overall Rating\",\n      \"properties\": {\n        \"dtype\": \"number\",\n        \"std\": 0.10825869503903039,\n        \"min\": 4.1,\n        \"max\": 5.0,\n        \"num_unique_values\": 10,\n        \"samples\": [\n          4.2,\n          5.0,\n          4.6\n        ],\n        \"semantic_type\": \"\",\n        \"description\": \"\"\n      }\n    },\n    {\n      \"column\": \"Number Sold\",\n      \"properties\": {\n        \"dtype\": \"number\",\n        \"std\": 74201,\n        \"min\": 9,\n        \"max\": 1000000,\n        \"num_unique_values\": 1043,\n        \"samples\": [\n          2729,\n          5659,\n          390\n        ],\n        \"semantic_type\": \"\",\n        \"description\": \"\"\n      }\n    },\n    {\n      \"column\": \"Total Review\",\n      \"properties\": {\n        \"dtype\": \"number\",\n        \"std\": 2915,\n        \"min\": 4,\n        \"max\": 24500,\n        \"num_unique_values\": 958,\n        \"samples\": [\n          738,\n          705,\n          2071\n        ],\n        \"semantic_type\": \"\",\n        \"description\": \"\"\n      }\n    },\n    {\n      \"column\": \"Customer Rating\",\n      \"properties\": {\n        \"dtype\": \"number\",\n        \"std\": 1,\n        \"min\": 1,\n        \"max\": 5,\n        \"num_unique_values\": 5,\n        \"samples\": [\n          1,\n          4,\n          3\n        ],\n        \"semantic_type\": \"\",\n        \"description\": \"\"\n      }\n    },\n    {\n      \"column\": \"Customer Review\",\n      \"properties\": {\n        \"dtype\": \"string\",\n        \"num_unique_values\": 5305,\n        \"samples\": [\n          \"Pembelian kedua tapi baru buka langsung sobek bagian atas, :(\",\n          \"Pengunci baling baling nya, tidakk ada... next dicek dengan teliti lah sbelum kirim. Bagus cocok dengan kipas angin lama yang rusak\",\n          \"Berfungsi dengan baik, fast charge jalan\"\n        ],\n        \"semantic_type\": \"\",\n        \"description\": \"\"\n      }\n    },\n    {\n      \"column\": \"Sentiment\",\n      \"properties\": {\n        \"dtype\": \"category\",\n        \"num_unique_values\": 2,\n        \"samples\": [\n          \"Negative\",\n          \"Positive\"\n        ],\n        \"semantic_type\": \"\",\n        \"description\": \"\"\n      }\n    },\n    {\n      \"column\": \"Emotion\",\n      \"properties\": {\n        \"dtype\": \"category\",\n        \"num_unique_values\": 5,\n        \"samples\": [\n          \"Sadness\",\n          \"Fear\"\n        ],\n        \"semantic_type\": \"\",\n        \"description\": \"\"\n      }\n    }\n  ]\n}"
            }
          },
          "metadata": {},
          "execution_count": 4
        }
      ],
      "source": [
        "df = pd.read_csv('/content/PRDECT-ID Dataset.csv')\n",
        "text = df['Customer Review']\n",
        "labels = df['Emotion']\n",
        "\n",
        "# Display the first few rows of the dataset\n",
        "df.head()"
      ]
    },
    {
      "cell_type": "markdown",
      "metadata": {
        "id": "JtYDqgySx-fA"
      },
      "source": [
        "PREPROCESSING DATA"
      ]
    },
    {
      "cell_type": "code",
      "execution_count": null,
      "metadata": {
        "colab": {
          "base_uri": "https://localhost:8080/"
        },
        "id": "Rz7frVSzDnNG",
        "outputId": "b9951946-d7f3-4237-a87b-756eedb3e07a"
      },
      "outputs": [
        {
          "output_type": "stream",
          "name": "stdout",
          "text": [
            "\n",
            "=== Cek Missing Value ===\n",
            "Category           0\n",
            "Product Name       0\n",
            "Location           0\n",
            "Price              0\n",
            "Overall Rating     0\n",
            "Number Sold        0\n",
            "Total Review       0\n",
            "Customer Rating    0\n",
            "Customer Review    0\n",
            "Sentiment          0\n",
            "Emotion            0\n",
            "dtype: int64\n",
            "\n",
            "=== Cek Duplikat ===\n",
            "Jumlah duplikat: 7\n",
            "Setelah dibersihkan: 5393 baris data\n"
          ]
        }
      ],
      "source": [
        "# Cek missing value\n",
        "print(\"\\n=== Cek Missing Value ===\")\n",
        "print(df.isnull().sum())\n",
        "\n",
        "# Cek duplikat\n",
        "print(\"\\n=== Cek Duplikat ===\")\n",
        "print(f\"Jumlah duplikat: {df.duplicated().sum()}\")\n",
        "\n",
        "# hapus missing value dan duplikat jika ada\n",
        "df = df.dropna()\n",
        "df = df.drop_duplicates()\n",
        "\n",
        "print(f\"Setelah dibersihkan: {df.shape[0]} baris data\")"
      ]
    },
    {
      "cell_type": "code",
      "execution_count": null,
      "metadata": {
        "colab": {
          "base_uri": "https://localhost:8080/",
          "height": 397,
          "referenced_widgets": [
            "eb23ab521db2448d8c756c34d6da09c1",
            "ccab94c47afa499bbeb009cb7cb3f723"
          ]
        },
        "id": "bKrrXEQRyO0L",
        "outputId": "f9a3210d-00f9-4597-e141-9c5642649ae1"
      },
      "outputs": [
        {
          "output_type": "stream",
          "name": "stderr",
          "text": [
            "WARNING: pip is being invoked by an old script wrapper. This will fail in a future version of pip.\n",
            "Please see https://github.com/pypa/pip/issues/5599 for advice on fixing the underlying issue.\n",
            "To avoid this problem you can invoke Python with '-m pip' instead of running pip directly.\n"
          ]
        },
        {
          "output_type": "display_data",
          "data": {
            "text/plain": [
              "Collecting emoji\n"
            ],
            "text/html": [
              "<pre style=\"white-space:pre;overflow-x:auto;line-height:normal;font-family:Menlo,'DejaVu Sans Mono',consolas,'Courier New',monospace\">Collecting emoji\n",
              "</pre>\n"
            ]
          },
          "metadata": {}
        },
        {
          "output_type": "display_data",
          "data": {
            "text/plain": [
              "  Downloading emoji-2.14.1-py3-none-any.whl.metadata (5.7 kB)\n"
            ],
            "text/html": [
              "<pre style=\"white-space:pre;overflow-x:auto;line-height:normal;font-family:Menlo,'DejaVu Sans Mono',consolas,'Courier New',monospace\">  Downloading emoji-2.14.1-py3-none-any.whl.metadata (5.7 kB)\n",
              "</pre>\n"
            ]
          },
          "metadata": {}
        },
        {
          "output_type": "display_data",
          "data": {
            "text/plain": [
              "Downloading emoji-2.14.1-py3-none-any.whl (590 kB)\n"
            ],
            "text/html": [
              "<pre style=\"white-space:pre;overflow-x:auto;line-height:normal;font-family:Menlo,'DejaVu Sans Mono',consolas,'Courier New',monospace\">Downloading emoji-2.14.1-py3-none-any.whl (590 kB)\n",
              "</pre>\n"
            ]
          },
          "metadata": {}
        },
        {
          "output_type": "display_data",
          "data": {
            "text/plain": [
              "Output()"
            ],
            "application/vnd.jupyter.widget-view+json": {
              "version_major": 2,
              "version_minor": 0,
              "model_id": "eb23ab521db2448d8c756c34d6da09c1"
            }
          },
          "metadata": {}
        },
        {
          "output_type": "display_data",
          "data": {
            "text/plain": [],
            "text/html": [
              "<pre style=\"white-space:pre;overflow-x:auto;line-height:normal;font-family:Menlo,'DejaVu Sans Mono',consolas,'Courier New',monospace\"></pre>\n"
            ]
          },
          "metadata": {}
        },
        {
          "output_type": "display_data",
          "data": {
            "text/plain": [
              "\n"
            ],
            "text/html": [
              "<pre style=\"white-space:pre;overflow-x:auto;line-height:normal;font-family:Menlo,'DejaVu Sans Mono',consolas,'Courier New',monospace\">\n",
              "</pre>\n"
            ]
          },
          "metadata": {}
        },
        {
          "output_type": "display_data",
          "data": {
            "text/plain": [
              "Installing collected packages: emoji\n"
            ],
            "text/html": [
              "<pre style=\"white-space:pre;overflow-x:auto;line-height:normal;font-family:Menlo,'DejaVu Sans Mono',consolas,'Courier New',monospace\">Installing collected packages: emoji\n",
              "</pre>\n"
            ]
          },
          "metadata": {}
        },
        {
          "output_type": "display_data",
          "data": {
            "text/plain": [
              "Successfully installed emoji-2.14.1\n"
            ],
            "text/html": [
              "<pre style=\"white-space:pre;overflow-x:auto;line-height:normal;font-family:Menlo,'DejaVu Sans Mono',consolas,'Courier New',monospace\">Successfully installed emoji-2.14.1\n",
              "</pre>\n"
            ]
          },
          "metadata": {}
        },
        {
          "output_type": "stream",
          "name": "stdout",
          "text": [
            "                                     Customer Review  \\\n",
            "0  Alhamdulillah berfungsi dengan baik. Packaging...   \n",
            "1  barang bagus dan respon cepat, harga bersaing ...   \n",
            "2  barang bagus, berfungsi dengan baik, seler ram...   \n",
            "3  bagus sesuai harapan penjual nya juga ramah. t...   \n",
            "4  Barang Bagus, pengemasan Aman, dapat Berfungsi...   \n",
            "\n",
            "                                        cleaned_text  \n",
            "0  alhamdulillah berfungsi baik packaging aman re...  \n",
            "1      barang bagus respon cepat harga bersaing lain  \n",
            "2  barang bagus berfungsi baik seler ramah pengir...  \n",
            "3  bagus sesuai harapan penjual nya ramah trimaka...  \n",
            "4  barang bagus pengemasan aman dapat berfungsi baik  \n"
          ]
        }
      ],
      "source": [
        "import pandas as pd\n",
        "import re\n",
        "import string\n",
        "\n",
        "# Coba impor emoji, install jika belum tersedia\n",
        "try:\n",
        "    import emoji\n",
        "except ImportError:\n",
        "    import pip\n",
        "    pip.main(['install', 'emoji'])\n",
        "    import emoji\n",
        "\n",
        "# Membaca file dataset\n",
        "df = pd.read_csv('/content/PRDECT-ID Dataset.csv')\n",
        "\n",
        "# Ambil kolom teks dan label\n",
        "text = df['Customer Review'].astype(str)\n",
        "labels = df['Emotion']\n",
        "\n",
        "# Stopwords Bahasa Indonesia\n",
        "stop_words_id = set([\n",
        "    'yang', 'dan', 'di', 'dari', 'ke', 'untuk', 'dengan', 'pada', 'ya', 'ini', 'itu',\n",
        "    'ada', 'oleh', 'saat', 'juga', 'seperti', 'karena', 'tidak', 'akan', 'dalam'\n",
        "])\n",
        "\n",
        "# Kamus singkatan dan informal\n",
        "normalization_dict = {\n",
        "    'gak': 'tidak', 'ga': 'tidak', 'gmn': 'bagaimana', 'bgt': 'banget',\n",
        "    'dong': 'saja', 'knp': 'kenapa', 'krn': 'karena', 'tp': 'tapi',\n",
        "    'dr': 'dari', 'yg': 'yang', 'aja': 'saja', 'blm': 'belum', 'jd': 'jadi',\n",
        "    'dlm': 'dalam', 'sm': 'sama', 'sbg': 'sebagai', 'tks': 'terima kasih',\n",
        "    'pls': 'tolong', 'thx': 'terima kasih', 'btw': 'ngomong-ngomong', 'ntar': 'nanti',\n",
        "    'brb': 'segera kembali', 'ok': 'baik', 'ntn': 'menonton', 'dmn': 'di mana',\n",
        "    'km': 'kamu', 'qt': 'kita', 'kpn': 'kapan', 'sy': 'saya', 'lg': 'lagi',\n",
        "    'gw': 'saya', 'gue': 'saya', 'lu': 'kamu', 'lo': 'kamu', 'pd': 'pada',\n",
        "    'trs': 'terus', 'udh': 'sudah', 'udah': 'sudah', 'gpp': 'tidak apa-apa',\n",
        "    'wkwkwk': 'tertawa', 'td': 'tadi', 'ttg': 'tentang', 'pkl': 'praktik kerja lapangan',\n",
        "    'dll': 'dan lain lain', 'kyk': 'kayak', 'org': 'orang', 'emg': 'emang',\n",
        "    'kkn': 'kuliah kerja nyata', 'spk': 'satuan pendidikan kerjasama', 'smt': 'semester',\n",
        "    'ofisial': 'official', 'fc': 'football club', 'prokes': 'program kesehatan',\n",
        "    'no': 'nomor', 'ptn': 'perguruan tinggi negeri', 'nesa': 'unesa',\n",
        "    'sasing': 'sastra inggris', 'darjo': 'sidoarjo', 'gbut': 'gabut',\n",
        "    'stres': 'stress', 'pcr': 'polymerase chain reaction test', 'ikt': 'ikut',\n",
        "    'jg': 'juga', 'kakak2': 'kakak-kakak', 'aku': 'saya', 'brp': 'berapa',\n",
        "    'jugs': 'juga', 'muk': 'mau', 'curhat': 'curahan hati'\n",
        "}\n",
        "\n",
        "# Kamus bahasa Jawa\n",
        "normalization_dict_jawa = {\n",
        "    'ora': 'tidak', 'sakjane': 'sebenarnya', 'aku': 'saya', 'kowe': 'kamu',\n",
        "    'gawe': 'buat', 'nggih': 'ya', 'opo': 'apa', 'ngendi': 'di mana',\n",
        "    'wes': 'sudah', 'durung': 'belum', 'yen': 'jika', 'ben': 'biar',\n",
        "    'ngopo': 'kenapa', 'wong': 'orang', 'sampeyan': 'Anda',\n",
        "    'mangan': 'makan', 'ngombe': 'minum', 'gede': 'besar'\n",
        "}\n",
        "\n",
        "# Fungsi normalisasi teks\n",
        "def normalize_text(text):\n",
        "    words = text.split()\n",
        "    normalized_words = [normalization_dict.get(word, word) for word in words]\n",
        "    return ' '.join(normalized_words)\n",
        "\n",
        "def normalize_text_jawa(text):\n",
        "    words = text.split()\n",
        "    normalized_words = [normalization_dict_jawa.get(word, word) for word in words]\n",
        "    return ' '.join(normalized_words)\n",
        "\n",
        "# Fungsi pembersihan\n",
        "def convert_emojis(text):\n",
        "    return emoji.demojize(text)\n",
        "\n",
        "def remove_punctuation(text):\n",
        "    return text.translate(str.maketrans('', '', string.punctuation))\n",
        "\n",
        "def remove_unwanted_characters(text):\n",
        "    return re.sub(r'[^\\x00-\\x7F]+', '', text)\n",
        "\n",
        "def preprocess_text(text):\n",
        "    text = str(text).lower()\n",
        "    text = re.sub(r\"http\\S+|www\\S+|https\\S+\", '', text)\n",
        "    text = re.sub(r\"<.*?>\", '', text)\n",
        "    text = re.sub(r'\\@[\\w]+|\\#', '', text)\n",
        "    text = convert_emojis(text)\n",
        "    text = normalize_text_jawa(text)\n",
        "    text = normalize_text(text)\n",
        "    text = remove_unwanted_characters(text)\n",
        "    text = remove_punctuation(text)\n",
        "    word_tokens = text.split()\n",
        "    filtered_text = [word for word in word_tokens if word not in stop_words_id]\n",
        "    return ' '.join(filtered_text)\n",
        "\n",
        "# Terapkan fungsi preprocessing\n",
        "df['cleaned_text'] = df['Customer Review'].apply(preprocess_text)\n",
        "\n",
        "# Tokenisasi\n",
        "tokenized_text = [text.split() for text in df['cleaned_text']]\n",
        "\n",
        "# Simpan hasil preprocessing ke file baru\n",
        "df.to_csv('/content/PRDECT-ID_preprocessed.csv', index=False)\n",
        "\n",
        "# Tampilkan beberapa baris pertama\n",
        "print(df[['Customer Review', 'cleaned_text']].head())\n"
      ]
    },
    {
      "cell_type": "markdown",
      "metadata": {
        "id": "z22x3KpkyRdH"
      },
      "source": [
        "EXPLORATORY DATA ANALYSIS (EDA)"
      ]
    },
    {
      "cell_type": "code",
      "execution_count": null,
      "metadata": {
        "colab": {
          "base_uri": "https://localhost:8080/",
          "height": 487
        },
        "id": "A9k7kgaWyYJG",
        "outputId": "88fac33a-0ae7-4530-dc94-49c1d685b1f0"
      },
      "outputs": [
        {
          "output_type": "display_data",
          "data": {
            "text/plain": [
              "<Figure size 800x500 with 1 Axes>"
            ],
            "image/png": "[encoded data removed]"
          },
          "metadata": {}
        }
      ],
      "source": [
        "# Distribusi kelas\n",
        "plt.figure(figsize=(8,5))\n",
        "sns.countplot(x='Emotion', data=df)  # Ganti 'label' menjadi 'Emotion'\n",
        "plt.title(\"Distribusi Kelas Emosi\")\n",
        "plt.show()"
      ]
    },
    {
      "cell_type": "code",
      "execution_count": null,
      "metadata": {
        "id": "-2QV82b4E6fN"
      },
      "outputs": [],
      "source": [
        "# Pastikan teks tidak kosong\n",
        "df = df[df['cleaned_text'].astype(bool)]\n",
        "\n",
        "# Reset index setelah filter\n",
        "df = df.reset_index(drop=True)\n",
        "\n",
        "# Lanjutkan TF-IDF\n",
        "texts = df['cleaned_text'].astype(str).tolist()\n",
        "labels = df['Emotion'].tolist()\n"
      ]
    },
    {
      "cell_type": "code",
      "execution_count": null,
      "metadata": {
        "colab": {
          "base_uri": "https://localhost:8080/"
        },
        "id": "2l3XJ6EF1Fwg",
        "outputId": "05436bc6-1c0f-4810-c5d0-93d391fccdbd"
      },
      "outputs": [
        {
          "output_type": "stream",
          "name": "stdout",
          "text": [
            "Distribusi sebelum SMOTE: Counter({'Happy': 1770, 'Sadness': 1202, 'Fear': 920, 'Love': 809, 'Anger': 699})\n",
            "Distribusi sesudah SMOTE: Counter({'Love': 1416, 'Happy': 1416, 'Sadness': 1416, 'Anger': 1416, 'Fear': 1416})\n"
          ]
        }
      ],
      "source": [
        "import numpy as np\n",
        "import pickle\n",
        "\n",
        "# Load teks\n",
        "texts = df['cleaned_text'].astype(str).tolist()\n",
        "\n",
        "# TF-IDF vectorization\n",
        "vectorizer = TfidfVectorizer(max_features=5000)\n",
        "X_vectorized = vectorizer.fit_transform(texts)\n",
        "\n",
        "# Simpan TF-IDF dan vectorizer\n",
        "with open('X_vectorized.pkl', 'wb') as f:\n",
        "    pickle.dump(X_vectorized, f)\n",
        "\n",
        "with open('tfidf_vectorizer.pkl', 'wb') as f:\n",
        "    pickle.dump(vectorizer, f)\n",
        "\n",
        "# Pastikan 'labels' sudah tersedia\n",
        "print(\"Distribusi sebelum SMOTE:\", Counter(labels))\n",
        "\n",
        "# Split data (SMOTE hanya pada training set)\n",
        "X_train, X_test, y_train, y_test = train_test_split(\n",
        "    X_vectorized, labels, test_size=0.2, random_state=42, stratify=labels\n",
        ")\n",
        "\n",
        "# Terapkan SMOTE\n",
        "smote = SMOTE(random_state=42)\n",
        "X_train_balanced, y_train_balanced = smote.fit_resample(X_train, y_train)\n",
        "\n",
        "# Simpan hasil SMOTE\n",
        "with open('X_train_balanced.pkl', 'wb') as f:\n",
        "    pickle.dump(X_train_balanced, f)\n",
        "with open('y_train_balanced.pkl', 'wb') as f:\n",
        "    pickle.dump(y_train_balanced, f)\n",
        "\n",
        "print(\"Distribusi sesudah SMOTE:\", Counter(y_train_balanced))\n"
      ]
    },
    {
      "cell_type": "code",
      "execution_count": null,
      "metadata": {
        "colab": {
          "base_uri": "https://localhost:8080/",
          "height": 487
        },
        "id": "RicWyulmyZYU",
        "outputId": "eae62f75-be3c-4df9-f414-bc12fd0a3a7d"
      },
      "outputs": [
        {
          "output_type": "display_data",
          "data": {
            "text/plain": [
              "<Figure size 800x500 with 1 Axes>"
            ],
            "image/png": "[encoded data removed]"
          },
          "metadata": {}
        }
      ],
      "source": [
        "# Panjang teks\n",
        "df['text_length'] = df['cleaned_text'].apply(lambda x: len(x.split()))\n",
        "plt.figure(figsize=(8,5))\n",
        "sns.boxplot(x='Emotion', y='text_length', data=df)  # Ganti 'label' menjadi 'Emotion'\n",
        "plt.title(\"Panjang Teks per Kelas\")\n",
        "plt.show()"
      ]
    },
    {
      "cell_type": "code",
      "execution_count": null,
      "metadata": {
        "colab": {
          "base_uri": "https://localhost:8080/"
        },
        "id": "nYdjJMQq9YN8",
        "outputId": "cf79534b-e87b-49bb-f248-38c0a1b2584a"
      },
      "outputs": [
        {
          "output_type": "stream",
          "name": "stdout",
          "text": [
            "count    5400.00000\n",
            "mean       13.61500\n",
            "std        12.94165\n",
            "min         1.00000\n",
            "25%         6.00000\n",
            "50%        10.00000\n",
            "75%        17.00000\n",
            "max       159.00000\n",
            "Name: text_length, dtype: float64\n"
          ]
        }
      ],
      "source": [
        "df['text_length'] = df['cleaned_text'].apply(lambda x: len(x.split()))\n",
        "print(df['text_length'].describe())"
      ]
    },
    {
      "cell_type": "code",
      "execution_count": null,
      "metadata": {
        "colab": {
          "base_uri": "https://localhost:8080/"
        },
        "id": "JoZWe7vb9o9O",
        "outputId": "681447de-1765-457b-94cc-5a8d4200321e"
      },
      "outputs": [
        {
          "output_type": "stream",
          "name": "stdout",
          "text": [
            "Padding selesai. Shape: (5400, 137)\n"
          ]
        }
      ],
      "source": [
        "import numpy as np\n",
        "import pandas as pd\n",
        "\n",
        "# Asumsikan df sudah tersedia dengan kolom 'cleaned_text'\n",
        "tokenized_texts = [text.split() for text in df['cleaned_text'].astype(str)]\n",
        "\n",
        "# Buat kamus kata ke index\n",
        "word2idx = {'<PAD>': 0, '<OOV>': 1}\n",
        "for text in tokenized_texts:\n",
        "    for word in text:\n",
        "        if word not in word2idx:\n",
        "            word2idx[word] = len(word2idx)\n",
        "\n",
        "# Ubah teks jadi angka\n",
        "sequences = [[word2idx.get(word, 1) for word in text] for text in tokenized_texts]\n",
        "\n",
        "# Padding/truncating manual\n",
        "max_len = 137\n",
        "padded_sequences = np.array([\n",
        "    seq[:max_len] + [0]*(max_len - len(seq)) if len(seq) < max_len else seq[:max_len]\n",
        "    for seq in sequences\n",
        "])\n",
        "\n",
        "# Simpan hasil padding\n",
        "np.save('padded_sequences.npy', padded_sequences)\n",
        "\n",
        "# Simpan word2idx dictionary\n",
        "import pickle\n",
        "with open('word2idx.pkl', 'wb') as f:\n",
        "    pickle.dump(word2idx, f)\n",
        "\n",
        "print(f\"Padding selesai. Shape: {padded_sequences.shape}\")\n"
      ]
    },
    {
      "cell_type": "code",
      "execution_count": null,
      "metadata": {
        "colab": {
          "base_uri": "https://localhost:8080/"
        },
        "id": "NFq8jlRUybn1",
        "outputId": "c3f31bc6-c015-4c2a-c205-61432c0d086e"
      },
      "outputs": [
        {
          "output_type": "stream",
          "name": "stdout",
          "text": [
            "Happy: 3431 kata unik\n",
            "Sadness: 3980 kata unik\n",
            "Anger: 3016 kata unik\n",
            "Love: 2579 kata unik\n",
            "Fear: 3911 kata unik\n"
          ]
        }
      ],
      "source": [
        "# Kata unik per kelas\n",
        "for label in df['Emotion'].unique():  # Ganti 'labels' menjadi 'Emotion'\n",
        "    subset = df[df['Emotion'] == label]  # Ganti 'labels' menjadi 'Emotion'\n",
        "    words = ' '.join(subset['cleaned_text']).split()\n",
        "    unique_words = set(words)\n",
        "    print(f\"{label}: {len(unique_words)} kata unik\")"
      ]
    },
    {
      "cell_type": "markdown",
      "metadata": {
        "id": "RHaoupu4yfpQ"
      },
      "source": [
        "FEATURE EXTRACTION & PCA"
      ]
    },
    {
      "cell_type": "code",
      "execution_count": null,
      "metadata": {
        "id": "P-buGex1ykea"
      },
      "outputs": [],
      "source": [
        "# Tokenisasi untuk Word2Vec & FastText\n",
        "tokenized_text = [text.split() for text in df['cleaned_text']]"
      ]
    },
    {
      "cell_type": "code",
      "execution_count": null,
      "metadata": {
        "colab": {
          "base_uri": "https://localhost:8080/"
        },
        "id": "H2OxNIEqynE3",
        "outputId": "a1a5f531-d62e-42cb-fb4d-d09b513182e4"
      },
      "outputs": [
        {
          "output_type": "stream",
          "name": "stdout",
          "text": [
            "\n",
            "=== TF-IDF ===\n",
            "Jumlah fitur sebelum PCA (TF-IDF): 5000\n",
            "Jumlah fitur setelah PCA (TF-IDF): 2120\n"
          ]
        }
      ],
      "source": [
        "# TF-IDF\n",
        "print(\"\\n=== TF-IDF ===\")\n",
        "tfidf_vectorizer = TfidfVectorizer(max_features=5000)\n",
        "X_tfidf = tfidf_vectorizer.fit_transform(df['cleaned_text'].astype(str))\n",
        "print(f\"Jumlah fitur sebelum PCA (TF-IDF): {X_tfidf.shape[1]}\")\n",
        "\n",
        "# Simpan TF-IDF dan vectorizer\n",
        "with open('X_tfidf.pkl', 'wb') as f:\n",
        "    pickle.dump(X_tfidf, f)\n",
        "\n",
        "with open('tfidf_vectorizer.pkl', 'wb') as f:\n",
        "    pickle.dump(tfidf_vectorizer, f)\n",
        "\n",
        "# PCA\n",
        "pca_tfidf = PCA(n_components=0.95)\n",
        "X_tfidf_pca = pca_tfidf.fit_transform(X_tfidf.toarray())\n",
        "print(f\"Jumlah fitur setelah PCA (TF-IDF): {X_tfidf_pca.shape[1]}\")\n",
        "\n",
        "# Simpan hasil PCA\n",
        "np.save('X_tfidf_pca.npy', X_tfidf_pca)\n",
        "with open('pca_tfidf_model.pkl', 'wb') as f:\n",
        "    pickle.dump(pca_tfidf, f)\n"
      ]
    },
    {
      "cell_type": "code",
      "execution_count": null,
      "metadata": {
        "colab": {
          "base_uri": "https://localhost:8080/"
        },
        "id": "uJTC8hWgyqLK",
        "outputId": "21d6dfc0-0655-4c77-9198-378cb0145331"
      },
      "outputs": [
        {
          "output_type": "stream",
          "name": "stdout",
          "text": [
            "\n",
            "=== Bag of Words ===\n",
            "Jumlah fitur sebelum PCA (BoW): 5000\n",
            "Jumlah fitur setelah PCA (BoW): 1361\n"
          ]
        }
      ],
      "source": [
        "# BoW\n",
        "print(\"\\n=== Bag of Words ===\")\n",
        "bow_vectorizer = CountVectorizer(max_features=5000)\n",
        "X_bow = bow_vectorizer.fit_transform(df['cleaned_text'].astype(str))\n",
        "print(f\"Jumlah fitur sebelum PCA (BoW): {X_bow.shape[1]}\")\n",
        "\n",
        "# Simpan hasil BoW dan vectorizer\n",
        "with open('X_bow.pkl', 'wb') as f:\n",
        "    pickle.dump(X_bow, f)\n",
        "\n",
        "with open('bow_vectorizer.pkl', 'wb') as f:\n",
        "    pickle.dump(bow_vectorizer, f)\n",
        "\n",
        "# PCA\n",
        "pca_bow = PCA(n_components=0.95)\n",
        "X_bow_pca = pca_bow.fit_transform(X_bow.toarray())\n",
        "print(f\"Jumlah fitur setelah PCA (BoW): {X_bow_pca.shape[1]}\")\n",
        "\n",
        "# Simpan hasil PCA\n",
        "np.save('X_bow_pca.npy', X_bow_pca)\n",
        "with open('pca_bow_model.pkl', 'wb') as f:\n",
        "    pickle.dump(pca_bow, f)\n"
      ]
    },
    {
      "cell_type": "code",
      "execution_count": null,
      "metadata": {
        "colab": {
          "base_uri": "https://localhost:8080/",
          "height": 597
        },
        "id": "jtIkqJcuys9n",
        "outputId": "15afdd67-591c-4b47-abbc-f791ea13a889"
      },
      "outputs": [
        {
          "output_type": "stream",
          "name": "stdout",
          "text": [
            "\n",
            "=== Word2Vec ===\n"
          ]
        },
        {
          "output_type": "display_data",
          "data": {
            "text/plain": [
              "collecting all words and their counts\n"
            ],
            "text/html": [
              "<pre style=\"white-space:pre;overflow-x:auto;line-height:normal;font-family:Menlo,'DejaVu Sans Mono',consolas,'Courier New',monospace\">collecting all words and their counts\n",
              "</pre>\n"
            ]
          },
          "metadata": {}
        },
        {
          "output_type": "display_data",
          "data": {
            "text/plain": [
              "PROGRESS: at sentence #0, processed 0 words, keeping 0 word types\n"
            ],
            "text/html": [
              "<pre style=\"white-space:pre;overflow-x:auto;line-height:normal;font-family:Menlo,'DejaVu Sans Mono',consolas,'Courier New',monospace\">PROGRESS: at sentence #0, processed 0 words, keeping 0 word types\n",
              "</pre>\n"
            ]
          },
          "metadata": {}
        },
        {
          "output_type": "display_data",
          "data": {
            "text/plain": [
              "collected 9945 word types from a corpus of 73521 raw words and 5400 sentences\n"
            ],
            "text/html": [
              "<pre style=\"white-space:pre;overflow-x:auto;line-height:normal;font-family:Menlo,'DejaVu Sans Mono',consolas,'Courier New',monospace\">collected 9945 word types from a corpus of 73521 raw words and 5400 sentences\n",
              "</pre>\n"
            ]
          },
          "metadata": {}
        },
        {
          "output_type": "display_data",
          "data": {
            "text/plain": [
              "Creating a fresh vocabulary\n"
            ],
            "text/html": [
              "<pre style=\"white-space:pre;overflow-x:auto;line-height:normal;font-family:Menlo,'DejaVu Sans Mono',consolas,'Courier New',monospace\">Creating a fresh vocabulary\n",
              "</pre>\n"
            ]
          },
          "metadata": {}
        },
        {
          "output_type": "display_data",
          "data": {
            "text/plain": [
              "Word2Vec lifecycle event {'msg': 'effective_min_count=1 retains 9945 unique words (100.00% of original 9945, drops 0)', 'datetime': '2025-05-30T12:46:37.451656', 'gensim': '4.3.3', 'python': '3.11.12 (main, Apr  9 2025, 08:55:54) [GCC 11.4.0]', 'platform': 'Linux-6.1.123+-x86_64-with-glibc2.35', 'event': 'prepare_vocab'}\n"
            ],
            "text/html": [
              "<pre style=\"white-space:pre;overflow-x:auto;line-height:normal;font-family:Menlo,'DejaVu Sans Mono',consolas,'Courier New',monospace\">Word2Vec lifecycle event {'msg': 'effective_min_count=1 retains 9945 unique words (100.00% of original 9945, drops 0)', 'datetime': '2025-05-30T12:46:37.451656', 'gensim': '4.3.3', 'python': '3.11.12 (main, Apr  9 2025, 08:55:54) [GCC 11.4.0]', 'platform': 'Linux-6.1.123+-x86_64-with-glibc2.35', 'event': 'prepare_vocab'}\n",
              "</pre>\n"
            ]
          },
          "metadata": {}
        },
        {
          "output_type": "display_data",
          "data": {
            "text/plain": [
              "Word2Vec lifecycle event {'msg': 'effective_min_count=1 leaves 73521 word corpus (100.00% of original 73521, drops 0)', 'datetime': '2025-05-30T12:46:37.454320', 'gensim': '4.3.3', 'python': '3.11.12 (main, Apr  9 2025, 08:55:54) [GCC 11.4.0]', 'platform': 'Linux-6.1.123+-x86_64-with-glibc2.35', 'event': 'prepare_vocab'}\n"
            ],
            "text/html": [
              "<pre style=\"white-space:pre;overflow-x:auto;line-height:normal;font-family:Menlo,'DejaVu Sans Mono',consolas,'Courier New',monospace\">Word2Vec lifecycle event {'msg': 'effective_min_count=1 leaves 73521 word corpus (100.00% of original 73521, drops 0)', 'datetime': '2025-05-30T12:46:37.454320', 'gensim': '4.3.3', 'python': '3.11.12 (main, Apr  9 2025, 08:55:54) [GCC 11.4.0]', 'platform': 'Linux-6.1.123+-x86_64-with-glibc2.35', 'event': 'prepare_vocab'}\n",
              "</pre>\n"
            ]
          },
          "metadata": {}
        },
        {
          "output_type": "display_data",
          "data": {
            "text/plain": [
              "deleting the raw counts dictionary of 9945 items\n"
            ],
            "text/html": [
              "<pre style=\"white-space:pre;overflow-x:auto;line-height:normal;font-family:Menlo,'DejaVu Sans Mono',consolas,'Courier New',monospace\">deleting the raw counts dictionary of 9945 items\n",
              "</pre>\n"
            ]
          },
          "metadata": {}
        },
        {
          "output_type": "display_data",
          "data": {
            "text/plain": [
              "sample=0.001 downsamples 56 most-common words\n"
            ],
            "text/html": [
              "<pre style=\"white-space:pre;overflow-x:auto;line-height:normal;font-family:Menlo,'DejaVu Sans Mono',consolas,'Courier New',monospace\">sample=0.001 downsamples 56 most-common words\n",
              "</pre>\n"
            ]
          },
          "metadata": {}
        },
        {
          "output_type": "display_data",
          "data": {
            "text/plain": [
              "Word2Vec lifecycle event {'msg': 'downsampling leaves estimated 63436.0442458247 word corpus (86.3%% of prior 73521)', 'datetime': '2025-05-30T12:46:37.535465', 'gensim': '4.3.3', 'python': '3.11.12 (main, Apr  9 2025, 08:55:54) [GCC 11.4.0]', 'platform': 'Linux-6.1.123+-x86_64-with-glibc2.35', 'event': 'prepare_vocab'}\n"
            ],
            "text/html": [
              "<pre style=\"white-space:pre;overflow-x:auto;line-height:normal;font-family:Menlo,'DejaVu Sans Mono',consolas,'Courier New',monospace\">Word2Vec lifecycle event {'msg': 'downsampling leaves estimated 63436.0442458247 word corpus (86.3%% of prior 73521)', 'datetime': '2025-05-30T12:46:37.535465', 'gensim': '4.3.3', 'python': '3.11.12 (main, Apr  9 2025, 08:55:54) [GCC 11.4.0]', 'platform': 'Linux-6.1.123+-x86_64-with-glibc2.35', 'event': 'prepare_vocab'}\n",
              "</pre>\n"
            ]
          },
          "metadata": {}
        },
        {
          "output_type": "display_data",
          "data": {
            "text/plain": [
              "estimated required memory for 9945 words and 100 dimensions: 12928500 bytes\n"
            ],
            "text/html": [
              "<pre style=\"white-space:pre;overflow-x:auto;line-height:normal;font-family:Menlo,'DejaVu Sans Mono',consolas,'Courier New',monospace\">estimated required memory for 9945 words and 100 dimensions: 12928500 bytes\n",
              "</pre>\n"
            ]
          },
          "metadata": {}
        },
        {
          "output_type": "display_data",
          "data": {
            "text/plain": [
              "resetting layer weights\n"
            ],
            "text/html": [
              "<pre style=\"white-space:pre;overflow-x:auto;line-height:normal;font-family:Menlo,'DejaVu Sans Mono',consolas,'Courier New',monospace\">resetting layer weights\n",
              "</pre>\n"
            ]
          },
          "metadata": {}
        },
        {
          "output_type": "display_data",
          "data": {
            "text/plain": [
              "Word2Vec lifecycle event {'update': False, 'trim_rule': 'None', 'datetime': '2025-05-30T12:46:37.694946', 'gensim': '4.3.3', 'python': '3.11.12 (main, Apr  9 2025, 08:55:54) [GCC 11.4.0]', 'platform': 'Linux-6.1.123+-x86_64-with-glibc2.35', 'event': 'build_vocab'}\n"
            ],
            "text/html": [
              "<pre style=\"white-space:pre;overflow-x:auto;line-height:normal;font-family:Menlo,'DejaVu Sans Mono',consolas,'Courier New',monospace\">Word2Vec lifecycle event {'update': False, 'trim_rule': 'None', 'datetime': '2025-05-30T12:46:37.694946', 'gensim': '4.3.3', 'python': '3.11.12 (main, Apr  9 2025, 08:55:54) [GCC 11.4.0]', 'platform': 'Linux-6.1.123+-x86_64-with-glibc2.35', 'event': 'build_vocab'}\n",
              "</pre>\n"
            ]
          },
          "metadata": {}
        },
        {
          "output_type": "display_data",
          "data": {
            "text/plain": [
              "Word2Vec lifecycle event {'msg': 'training model with 4 workers on 9945 vocabulary and 100 features, using sg=1 hs=0 sample=0.001 negative=5 window=5 shrink_windows=True', 'datetime': '2025-05-30T12:46:37.697358', 'gensim': '4.3.3', 'python': '3.11.12 (main, Apr  9 2025, 08:55:54) [GCC 11.4.0]', 'platform': 'Linux-6.1.123+-x86_64-with-glibc2.35', 'event': 'train'}\n"
            ],
            "text/html": [
              "<pre style=\"white-space:pre;overflow-x:auto;line-height:normal;font-family:Menlo,'DejaVu Sans Mono',consolas,'Courier New',monospace\">Word2Vec lifecycle event {'msg': 'training model with 4 workers on 9945 vocabulary and 100 features, using sg=1 hs=0 sample=0.001 negative=5 window=5 shrink_windows=True', 'datetime': '2025-05-30T12:46:37.697358', 'gensim': '4.3.3', 'python': '3.11.12 (main, Apr  9 2025, 08:55:54) [GCC 11.4.0]', 'platform': 'Linux-6.1.123+-x86_64-with-glibc2.35', 'event': 'train'}\n",
              "</pre>\n"
            ]
          },
          "metadata": {}
        },
        {
          "output_type": "display_data",
          "data": {
            "text/plain": [
              "EPOCH 0: training on 73521 raw words (63458 effective words) took 0.5s, 125450 effective words/s\n"
            ],
            "text/html": [
              "<pre style=\"white-space:pre;overflow-x:auto;line-height:normal;font-family:Menlo,'DejaVu Sans Mono',consolas,'Courier New',monospace\">EPOCH 0: training on 73521 raw words (63458 effective words) took 0.5s, 125450 effective words/s\n",
              "</pre>\n"
            ]
          },
          "metadata": {}
        },
        {
          "output_type": "display_data",
          "data": {
            "text/plain": [
              "EPOCH 1: training on 73521 raw words (63361 effective words) took 0.5s, 138249 effective words/s\n"
            ],
            "text/html": [
              "<pre style=\"white-space:pre;overflow-x:auto;line-height:normal;font-family:Menlo,'DejaVu Sans Mono',consolas,'Courier New',monospace\">EPOCH 1: training on 73521 raw words (63361 effective words) took 0.5s, 138249 effective words/s\n",
              "</pre>\n"
            ]
          },
          "metadata": {}
        },
        {
          "output_type": "display_data",
          "data": {
            "text/plain": [
              "EPOCH 2: training on 73521 raw words (63350 effective words) took 0.5s, 133139 effective words/s\n"
            ],
            "text/html": [
              "<pre style=\"white-space:pre;overflow-x:auto;line-height:normal;font-family:Menlo,'DejaVu Sans Mono',consolas,'Courier New',monospace\">EPOCH 2: training on 73521 raw words (63350 effective words) took 0.5s, 133139 effective words/s\n",
              "</pre>\n"
            ]
          },
          "metadata": {}
        },
        {
          "output_type": "display_data",
          "data": {
            "text/plain": [
              "EPOCH 3: training on 73521 raw words (63459 effective words) took 0.5s, 128791 effective words/s\n"
            ],
            "text/html": [
              "<pre style=\"white-space:pre;overflow-x:auto;line-height:normal;font-family:Menlo,'DejaVu Sans Mono',consolas,'Courier New',monospace\">EPOCH 3: training on 73521 raw words (63459 effective words) took 0.5s, 128791 effective words/s\n",
              "</pre>\n"
            ]
          },
          "metadata": {}
        },
        {
          "output_type": "display_data",
          "data": {
            "text/plain": [
              "EPOCH 4: training on 73521 raw words (63485 effective words) took 0.5s, 124018 effective words/s\n"
            ],
            "text/html": [
              "<pre style=\"white-space:pre;overflow-x:auto;line-height:normal;font-family:Menlo,'DejaVu Sans Mono',consolas,'Courier New',monospace\">EPOCH 4: training on 73521 raw words (63485 effective words) took 0.5s, 124018 effective words/s\n",
              "</pre>\n"
            ]
          },
          "metadata": {}
        },
        {
          "output_type": "display_data",
          "data": {
            "text/plain": [
              "Word2Vec lifecycle event {'msg': 'training on 367605 raw words (317113 effective words) took 2.5s, 126320 effective words/s', 'datetime': '2025-05-30T12:46:40.209785', 'gensim': '4.3.3', 'python': '3.11.12 (main, Apr  9 2025, 08:55:54) [GCC 11.4.0]', 'platform': 'Linux-6.1.123+-x86_64-with-glibc2.35', 'event': 'train'}\n"
            ],
            "text/html": [
              "<pre style=\"white-space:pre;overflow-x:auto;line-height:normal;font-family:Menlo,'DejaVu Sans Mono',consolas,'Courier New',monospace\">Word2Vec lifecycle event {'msg': 'training on 367605 raw words (317113 effective words) took 2.5s, 126320 effective words/s', 'datetime': '2025-05-30T12:46:40.209785', 'gensim': '4.3.3', 'python': '3.11.12 (main, Apr  9 2025, 08:55:54) [GCC 11.4.0]', 'platform': 'Linux-6.1.123+-x86_64-with-glibc2.35', 'event': 'train'}\n",
              "</pre>\n"
            ]
          },
          "metadata": {}
        },
        {
          "output_type": "display_data",
          "data": {
            "text/plain": [
              "Word2Vec lifecycle event {'params': 'Word2Vec<vocab=9945, vector_size=100, alpha=0.025>', 'datetime': '2025-05-30T12:46:40.212556', 'gensim': '4.3.3', 'python': '3.11.12 (main, Apr  9 2025, 08:55:54) [GCC 11.4.0]', 'platform': 'Linux-6.1.123+-x86_64-with-glibc2.35', 'event': 'created'}\n"
            ],
            "text/html": [
              "<pre style=\"white-space:pre;overflow-x:auto;line-height:normal;font-family:Menlo,'DejaVu Sans Mono',consolas,'Courier New',monospace\">Word2Vec lifecycle event {'params': 'Word2Vec&lt;vocab=9945, vector_size=100, alpha=0.025&gt;', 'datetime': '2025-05-30T12:46:40.212556', 'gensim': '4.3.3', 'python': '3.11.12 (main, Apr  9 2025, 08:55:54) [GCC 11.4.0]', 'platform': 'Linux-6.1.123+-x86_64-with-glibc2.35', 'event': 'created'}\n",
              "</pre>\n"
            ]
          },
          "metadata": {}
        },
        {
          "output_type": "display_data",
          "data": {
            "text/plain": [
              "Word2Vec lifecycle event {'fname_or_handle': 'word2vec_model.model', 'separately': 'None', 'sep_limit': 10485760, 'ignore': frozenset(), 'datetime': '2025-05-30T12:46:40.214627', 'gensim': '4.3.3', 'python': '3.11.12 (main, Apr  9 2025, 08:55:54) [GCC 11.4.0]', 'platform': 'Linux-6.1.123+-x86_64-with-glibc2.35', 'event': 'saving'}\n"
            ],
            "text/html": [
              "<pre style=\"white-space:pre;overflow-x:auto;line-height:normal;font-family:Menlo,'DejaVu Sans Mono',consolas,'Courier New',monospace\">Word2Vec lifecycle event {'fname_or_handle': 'word2vec_model.model', 'separately': 'None', 'sep_limit': 10485760, 'ignore': frozenset(), 'datetime': '2025-05-30T12:46:40.214627', 'gensim': '4.3.3', 'python': '3.11.12 (main, Apr  9 2025, 08:55:54) [GCC 11.4.0]', 'platform': 'Linux-6.1.123+-x86_64-with-glibc2.35', 'event': 'saving'}\n",
              "</pre>\n"
            ]
          },
          "metadata": {}
        },
        {
          "output_type": "display_data",
          "data": {
            "text/plain": [
              "not storing attribute cum_table\n"
            ],
            "text/html": [
              "<pre style=\"white-space:pre;overflow-x:auto;line-height:normal;font-family:Menlo,'DejaVu Sans Mono',consolas,'Courier New',monospace\">not storing attribute cum_table\n",
              "</pre>\n"
            ]
          },
          "metadata": {}
        },
        {
          "output_type": "display_data",
          "data": {
            "text/plain": [
              "saved word2vec_model.model\n"
            ],
            "text/html": [
              "<pre style=\"white-space:pre;overflow-x:auto;line-height:normal;font-family:Menlo,'DejaVu Sans Mono',consolas,'Courier New',monospace\">saved word2vec_model.model\n",
              "</pre>\n"
            ]
          },
          "metadata": {}
        },
        {
          "output_type": "stream",
          "name": "stdout",
          "text": [
            "Jumlah fitur sebelum PCA (Word2Vec): 100\n",
            "Jumlah fitur setelah PCA (Word2Vec): 5\n"
          ]
        }
      ],
      "source": [
        "# Word2Vec\n",
        "print(\"\\n=== Word2Vec ===\")\n",
        "w2v_model = Word2Vec(\n",
        "    sentences=tokenized_text, vector_size=100, window=5,\n",
        "    min_count=1, workers=4, sg=1  # sg=1 means skip-gram\n",
        ")\n",
        "\n",
        "# Simpan model Word2Vec\n",
        "w2v_model.save(\"word2vec_model.model\")\n",
        "\n",
        "# Buat vektor rata-rata untuk tiap dokumen\n",
        "X_w2v = np.array([\n",
        "    np.mean(\n",
        "        [w2v_model.wv[word] for word in words if word in w2v_model.wv]\n",
        "        or [np.zeros(w2v_model.vector_size)], axis=0\n",
        "    )\n",
        "    for words in tokenized_text\n",
        "])\n",
        "\n",
        "# Simpan X_w2v\n",
        "np.save('X_w2v.npy', X_w2v)\n",
        "\n",
        "# PCA\n",
        "print(f\"Jumlah fitur sebelum PCA (Word2Vec): {X_w2v.shape[1]}\")\n",
        "pca_w2v = PCA(n_components=0.95)\n",
        "X_w2v_pca = pca_w2v.fit_transform(X_w2v)\n",
        "print(f\"Jumlah fitur setelah PCA (Word2Vec): {X_w2v_pca.shape[1]}\")\n",
        "\n",
        "# Simpan hasil PCA\n",
        "np.save('X_w2v_pca.npy', X_w2v_pca)\n",
        "with open('pca_w2v_model.pkl', 'wb') as f:\n",
        "    pickle.dump(pca_w2v, f)\n"
      ]
    },
    {
      "cell_type": "code",
      "execution_count": null,
      "metadata": {
        "colab": {
          "base_uri": "https://localhost:8080/",
          "height": 665
        },
        "id": "7WSGvyQUywNQ",
        "outputId": "61935194-3cc9-44e3-d25d-d241945e4480"
      },
      "outputs": [
        {
          "output_type": "stream",
          "name": "stdout",
          "text": [
            "\n",
            "=== FastText ===\n"
          ]
        },
        {
          "output_type": "display_data",
          "data": {
            "text/plain": [
              "collecting all words and their counts\n"
            ],
            "text/html": [
              "<pre style=\"white-space:pre;overflow-x:auto;line-height:normal;font-family:Menlo,'DejaVu Sans Mono',consolas,'Courier New',monospace\">collecting all words and their counts\n",
              "</pre>\n"
            ]
          },
          "metadata": {}
        },
        {
          "output_type": "display_data",
          "data": {
            "text/plain": [
              "PROGRESS: at sentence #0, processed 0 words, keeping 0 word types\n"
            ],
            "text/html": [
              "<pre style=\"white-space:pre;overflow-x:auto;line-height:normal;font-family:Menlo,'DejaVu Sans Mono',consolas,'Courier New',monospace\">PROGRESS: at sentence #0, processed 0 words, keeping 0 word types\n",
              "</pre>\n"
            ]
          },
          "metadata": {}
        },
        {
          "output_type": "display_data",
          "data": {
            "text/plain": [
              "collected 9945 word types from a corpus of 73521 raw words and 5400 sentences\n"
            ],
            "text/html": [
              "<pre style=\"white-space:pre;overflow-x:auto;line-height:normal;font-family:Menlo,'DejaVu Sans Mono',consolas,'Courier New',monospace\">collected 9945 word types from a corpus of 73521 raw words and 5400 sentences\n",
              "</pre>\n"
            ]
          },
          "metadata": {}
        },
        {
          "output_type": "display_data",
          "data": {
            "text/plain": [
              "Creating a fresh vocabulary\n"
            ],
            "text/html": [
              "<pre style=\"white-space:pre;overflow-x:auto;line-height:normal;font-family:Menlo,'DejaVu Sans Mono',consolas,'Courier New',monospace\">Creating a fresh vocabulary\n",
              "</pre>\n"
            ]
          },
          "metadata": {}
        },
        {
          "output_type": "display_data",
          "data": {
            "text/plain": [
              "FastText lifecycle event {'msg': 'effective_min_count=1 retains 9945 unique words (100.00% of original 9945, drops 0)', 'datetime': '2025-05-30T12:46:52.925561', 'gensim': '4.3.3', 'python': '3.11.12 (main, Apr  9 2025, 08:55:54) [GCC 11.4.0]', 'platform': 'Linux-6.1.123+-x86_64-with-glibc2.35', 'event': 'prepare_vocab'}\n"
            ],
            "text/html": [
              "<pre style=\"white-space:pre;overflow-x:auto;line-height:normal;font-family:Menlo,'DejaVu Sans Mono',consolas,'Courier New',monospace\">FastText lifecycle event {'msg': 'effective_min_count=1 retains 9945 unique words (100.00% of original 9945, drops 0)', 'datetime': '2025-05-30T12:46:52.925561', 'gensim': '4.3.3', 'python': '3.11.12 (main, Apr  9 2025, 08:55:54) [GCC 11.4.0]', 'platform': 'Linux-6.1.123+-x86_64-with-glibc2.35', 'event': 'prepare_vocab'}\n",
              "</pre>\n"
            ]
          },
          "metadata": {}
        },
        {
          "output_type": "display_data",
          "data": {
            "text/plain": [
              "FastText lifecycle event {'msg': 'effective_min_count=1 leaves 73521 word corpus (100.00% of original 73521, drops 0)', 'datetime': '2025-05-30T12:46:52.932372', 'gensim': '4.3.3', 'python': '3.11.12 (main, Apr  9 2025, 08:55:54) [GCC 11.4.0]', 'platform': 'Linux-6.1.123+-x86_64-with-glibc2.35', 'event': 'prepare_vocab'}\n"
            ],
            "text/html": [
              "<pre style=\"white-space:pre;overflow-x:auto;line-height:normal;font-family:Menlo,'DejaVu Sans Mono',consolas,'Courier New',monospace\">FastText lifecycle event {'msg': 'effective_min_count=1 leaves 73521 word corpus (100.00% of original 73521, drops 0)', 'datetime': '2025-05-30T12:46:52.932372', 'gensim': '4.3.3', 'python': '3.11.12 (main, Apr  9 2025, 08:55:54) [GCC 11.4.0]', 'platform': 'Linux-6.1.123+-x86_64-with-glibc2.35', 'event': 'prepare_vocab'}\n",
              "</pre>\n"
            ]
          },
          "metadata": {}
        },
        {
          "output_type": "display_data",
          "data": {
            "text/plain": [
              "deleting the raw counts dictionary of 9945 items\n"
            ],
            "text/html": [
              "<pre style=\"white-space:pre;overflow-x:auto;line-height:normal;font-family:Menlo,'DejaVu Sans Mono',consolas,'Courier New',monospace\">deleting the raw counts dictionary of 9945 items\n",
              "</pre>\n"
            ]
          },
          "metadata": {}
        },
        {
          "output_type": "display_data",
          "data": {
            "text/plain": [
              "sample=0.001 downsamples 56 most-common words\n"
            ],
            "text/html": [
              "<pre style=\"white-space:pre;overflow-x:auto;line-height:normal;font-family:Menlo,'DejaVu Sans Mono',consolas,'Courier New',monospace\">sample=0.001 downsamples 56 most-common words\n",
              "</pre>\n"
            ]
          },
          "metadata": {}
        },
        {
          "output_type": "display_data",
          "data": {
            "text/plain": [
              "FastText lifecycle event {'msg': 'downsampling leaves estimated 63436.0442458247 word corpus (86.3%% of prior 73521)', 'datetime': '2025-05-30T12:46:53.143887', 'gensim': '4.3.3', 'python': '3.11.12 (main, Apr  9 2025, 08:55:54) [GCC 11.4.0]', 'platform': 'Linux-6.1.123+-x86_64-with-glibc2.35', 'event': 'prepare_vocab'}\n"
            ],
            "text/html": [
              "<pre style=\"white-space:pre;overflow-x:auto;line-height:normal;font-family:Menlo,'DejaVu Sans Mono',consolas,'Courier New',monospace\">FastText lifecycle event {'msg': 'downsampling leaves estimated 63436.0442458247 word corpus (86.3%% of prior 73521)', 'datetime': '2025-05-30T12:46:53.143887', 'gensim': '4.3.3', 'python': '3.11.12 (main, Apr  9 2025, 08:55:54) [GCC 11.4.0]', 'platform': 'Linux-6.1.123+-x86_64-with-glibc2.35', 'event': 'prepare_vocab'}\n",
              "</pre>\n"
            ]
          },
          "metadata": {}
        },
        {
          "output_type": "display_data",
          "data": {
            "text/plain": [
              "estimated required memory for 9945 words, 2000000 buckets and 100 dimensions: 814824372 bytes\n"
            ],
            "text/html": [
              "<pre style=\"white-space:pre;overflow-x:auto;line-height:normal;font-family:Menlo,'DejaVu Sans Mono',consolas,'Courier New',monospace\">estimated required memory for 9945 words, 2000000 buckets and 100 dimensions: 814824372 bytes\n",
              "</pre>\n"
            ]
          },
          "metadata": {}
        },
        {
          "output_type": "display_data",
          "data": {
            "text/plain": [
              "resetting layer weights\n"
            ],
            "text/html": [
              "<pre style=\"white-space:pre;overflow-x:auto;line-height:normal;font-family:Menlo,'DejaVu Sans Mono',consolas,'Courier New',monospace\">resetting layer weights\n",
              "</pre>\n"
            ]
          },
          "metadata": {}
        },
        {
          "output_type": "display_data",
          "data": {
            "text/plain": [
              "FastText lifecycle event {'update': False, 'trim_rule': 'None', 'datetime': '2025-05-30T12:46:58.121162', 'gensim': '4.3.3', 'python': '3.11.12 (main, Apr  9 2025, 08:55:54) [GCC 11.4.0]', 'platform': 'Linux-6.1.123+-x86_64-with-glibc2.35', 'event': 'build_vocab'}\n"
            ],
            "text/html": [
              "<pre style=\"white-space:pre;overflow-x:auto;line-height:normal;font-family:Menlo,'DejaVu Sans Mono',consolas,'Courier New',monospace\">FastText lifecycle event {'update': False, 'trim_rule': 'None', 'datetime': '2025-05-30T12:46:58.121162', 'gensim': '4.3.3', 'python': '3.11.12 (main, Apr  9 2025, 08:55:54) [GCC 11.4.0]', 'platform': 'Linux-6.1.123+-x86_64-with-glibc2.35', 'event': 'build_vocab'}\n",
              "</pre>\n"
            ]
          },
          "metadata": {}
        },
        {
          "output_type": "display_data",
          "data": {
            "text/plain": [
              "FastText lifecycle event {'msg': 'training model with 4 workers on 9945 vocabulary and 100 features, using sg=1 hs=0 sample=0.001 negative=5 window=5 shrink_windows=True', 'datetime': '2025-05-30T12:46:58.123810', 'gensim': '4.3.3', 'python': '3.11.12 (main, Apr  9 2025, 08:55:54) [GCC 11.4.0]', 'platform': 'Linux-6.1.123+-x86_64-with-glibc2.35', 'event': 'train'}\n"
            ],
            "text/html": [
              "<pre style=\"white-space:pre;overflow-x:auto;line-height:normal;font-family:Menlo,'DejaVu Sans Mono',consolas,'Courier New',monospace\">FastText lifecycle event {'msg': 'training model with 4 workers on 9945 vocabulary and 100 features, using sg=1 hs=0 sample=0.001 negative=5 window=5 shrink_windows=True', 'datetime': '2025-05-30T12:46:58.123810', 'gensim': '4.3.3', 'python': '3.11.12 (main, Apr  9 2025, 08:55:54) [GCC 11.4.0]', 'platform': 'Linux-6.1.123+-x86_64-with-glibc2.35', 'event': 'train'}\n",
              "</pre>\n"
            ]
          },
          "metadata": {}
        },
        {
          "output_type": "display_data",
          "data": {
            "text/plain": [
              "EPOCH 0: training on 73521 raw words (63347 effective words) took 1.0s, 65904 effective words/s\n"
            ],
            "text/html": [
              "<pre style=\"white-space:pre;overflow-x:auto;line-height:normal;font-family:Menlo,'DejaVu Sans Mono',consolas,'Courier New',monospace\">EPOCH 0: training on 73521 raw words (63347 effective words) took 1.0s, 65904 effective words/s\n",
              "</pre>\n"
            ]
          },
          "metadata": {}
        },
        {
          "output_type": "display_data",
          "data": {
            "text/plain": [
              "EPOCH 1: training on 73521 raw words (63560 effective words) took 1.0s, 64158 effective words/s\n"
            ],
            "text/html": [
              "<pre style=\"white-space:pre;overflow-x:auto;line-height:normal;font-family:Menlo,'DejaVu Sans Mono',consolas,'Courier New',monospace\">EPOCH 1: training on 73521 raw words (63560 effective words) took 1.0s, 64158 effective words/s\n",
              "</pre>\n"
            ]
          },
          "metadata": {}
        },
        {
          "output_type": "display_data",
          "data": {
            "text/plain": [
              "EPOCH 2 - PROGRESS: at 76.13% examples, 36942 words/s, in_qsize 2, out_qsize 1\n"
            ],
            "text/html": [
              "<pre style=\"white-space:pre;overflow-x:auto;line-height:normal;font-family:Menlo,'DejaVu Sans Mono',consolas,'Courier New',monospace\">EPOCH 2 - PROGRESS: at 76.13% examples, 36942 words/s, in_qsize 2, out_qsize 1\n",
              "</pre>\n"
            ]
          },
          "metadata": {}
        },
        {
          "output_type": "display_data",
          "data": {
            "text/plain": [
              "EPOCH 2: training on 73521 raw words (63557 effective words) took 1.3s, 49835 effective words/s\n"
            ],
            "text/html": [
              "<pre style=\"white-space:pre;overflow-x:auto;line-height:normal;font-family:Menlo,'DejaVu Sans Mono',consolas,'Courier New',monospace\">EPOCH 2: training on 73521 raw words (63557 effective words) took 1.3s, 49835 effective words/s\n",
              "</pre>\n"
            ]
          },
          "metadata": {}
        },
        {
          "output_type": "display_data",
          "data": {
            "text/plain": [
              "EPOCH 3: training on 73521 raw words (63325 effective words) took 1.0s, 65105 effective words/s\n"
            ],
            "text/html": [
              "<pre style=\"white-space:pre;overflow-x:auto;line-height:normal;font-family:Menlo,'DejaVu Sans Mono',consolas,'Courier New',monospace\">EPOCH 3: training on 73521 raw words (63325 effective words) took 1.0s, 65105 effective words/s\n",
              "</pre>\n"
            ]
          },
          "metadata": {}
        },
        {
          "output_type": "display_data",
          "data": {
            "text/plain": [
              "EPOCH 4: training on 73521 raw words (63411 effective words) took 0.9s, 72981 effective words/s\n"
            ],
            "text/html": [
              "<pre style=\"white-space:pre;overflow-x:auto;line-height:normal;font-family:Menlo,'DejaVu Sans Mono',consolas,'Courier New',monospace\">EPOCH 4: training on 73521 raw words (63411 effective words) took 0.9s, 72981 effective words/s\n",
              "</pre>\n"
            ]
          },
          "metadata": {}
        },
        {
          "output_type": "display_data",
          "data": {
            "text/plain": [
              "FastText lifecycle event {'msg': 'training on 367605 raw words (317200 effective words) took 5.2s, 61004 effective words/s', 'datetime': '2025-05-30T12:47:03.327690', 'gensim': '4.3.3', 'python': '3.11.12 (main, Apr  9 2025, 08:55:54) [GCC 11.4.0]', 'platform': 'Linux-6.1.123+-x86_64-with-glibc2.35', 'event': 'train'}\n"
            ],
            "text/html": [
              "<pre style=\"white-space:pre;overflow-x:auto;line-height:normal;font-family:Menlo,'DejaVu Sans Mono',consolas,'Courier New',monospace\">FastText lifecycle event {'msg': 'training on 367605 raw words (317200 effective words) took 5.2s, 61004 effective words/s', 'datetime': '2025-05-30T12:47:03.327690', 'gensim': '4.3.3', 'python': '3.11.12 (main, Apr  9 2025, 08:55:54) [GCC 11.4.0]', 'platform': 'Linux-6.1.123+-x86_64-with-glibc2.35', 'event': 'train'}\n",
              "</pre>\n"
            ]
          },
          "metadata": {}
        },
        {
          "output_type": "display_data",
          "data": {
            "text/plain": [
              "FastText lifecycle event {'params': 'FastText<vocab=9945, vector_size=100, alpha=0.025>', 'datetime': '2025-05-30T12:47:04.198781', 'gensim': '4.3.3', 'python': '3.11.12 (main, Apr  9 2025, 08:55:54) [GCC 11.4.0]', 'platform': 'Linux-6.1.123+-x86_64-with-glibc2.35', 'event': 'created'}\n"
            ],
            "text/html": [
              "<pre style=\"white-space:pre;overflow-x:auto;line-height:normal;font-family:Menlo,'DejaVu Sans Mono',consolas,'Courier New',monospace\">FastText lifecycle event {'params': 'FastText&lt;vocab=9945, vector_size=100, alpha=0.025&gt;', 'datetime': '2025-05-30T12:47:04.198781', 'gensim': '4.3.3', 'python': '3.11.12 (main, Apr  9 2025, 08:55:54) [GCC 11.4.0]', 'platform': 'Linux-6.1.123+-x86_64-with-glibc2.35', 'event': 'created'}\n",
              "</pre>\n"
            ]
          },
          "metadata": {}
        },
        {
          "output_type": "display_data",
          "data": {
            "text/plain": [
              "FastText lifecycle event {'fname_or_handle': 'fasttext_model.model', 'separately': 'None', 'sep_limit': 10485760, 'ignore': frozenset(), 'datetime': '2025-05-30T12:47:04.204483', 'gensim': '4.3.3', 'python': '3.11.12 (main, Apr  9 2025, 08:55:54) [GCC 11.4.0]', 'platform': 'Linux-6.1.123+-x86_64-with-glibc2.35', 'event': 'saving'}\n"
            ],
            "text/html": [
              "<pre style=\"white-space:pre;overflow-x:auto;line-height:normal;font-family:Menlo,'DejaVu Sans Mono',consolas,'Courier New',monospace\">FastText lifecycle event {'fname_or_handle': 'fasttext_model.model', 'separately': 'None', 'sep_limit': 10485760, 'ignore': frozenset(), 'datetime': '2025-05-30T12:47:04.204483', 'gensim': '4.3.3', 'python': '3.11.12 (main, Apr  9 2025, 08:55:54) [GCC 11.4.0]', 'platform': 'Linux-6.1.123+-x86_64-with-glibc2.35', 'event': 'saving'}\n",
              "</pre>\n"
            ]
          },
          "metadata": {}
        },
        {
          "output_type": "display_data",
          "data": {
            "text/plain": [
              "storing np array 'vectors_ngrams' to fasttext_model.model.wv.vectors_ngrams.npy\n"
            ],
            "text/html": [
              "<pre style=\"white-space:pre;overflow-x:auto;line-height:normal;font-family:Menlo,'DejaVu Sans Mono',consolas,'Courier New',monospace\">storing np array 'vectors_ngrams' to fasttext_model.model.wv.vectors_ngrams.npy\n",
              "</pre>\n"
            ]
          },
          "metadata": {}
        },
        {
          "output_type": "display_data",
          "data": {
            "text/plain": [
              "not storing attribute buckets_word\n"
            ],
            "text/html": [
              "<pre style=\"white-space:pre;overflow-x:auto;line-height:normal;font-family:Menlo,'DejaVu Sans Mono',consolas,'Courier New',monospace\">not storing attribute buckets_word\n",
              "</pre>\n"
            ]
          },
          "metadata": {}
        },
        {
          "output_type": "display_data",
          "data": {
            "text/plain": [
              "not storing attribute vectors\n"
            ],
            "text/html": [
              "<pre style=\"white-space:pre;overflow-x:auto;line-height:normal;font-family:Menlo,'DejaVu Sans Mono',consolas,'Courier New',monospace\">not storing attribute vectors\n",
              "</pre>\n"
            ]
          },
          "metadata": {}
        },
        {
          "output_type": "display_data",
          "data": {
            "text/plain": [
              "not storing attribute cum_table\n"
            ],
            "text/html": [
              "<pre style=\"white-space:pre;overflow-x:auto;line-height:normal;font-family:Menlo,'DejaVu Sans Mono',consolas,'Courier New',monospace\">not storing attribute cum_table\n",
              "</pre>\n"
            ]
          },
          "metadata": {}
        },
        {
          "output_type": "display_data",
          "data": {
            "text/plain": [
              "saved fasttext_model.model\n"
            ],
            "text/html": [
              "<pre style=\"white-space:pre;overflow-x:auto;line-height:normal;font-family:Menlo,'DejaVu Sans Mono',consolas,'Courier New',monospace\">saved fasttext_model.model\n",
              "</pre>\n"
            ]
          },
          "metadata": {}
        },
        {
          "output_type": "stream",
          "name": "stdout",
          "text": [
            "Jumlah fitur sebelum PCA (FastText): 100\n",
            "Jumlah fitur setelah PCA (FastText): 5\n"
          ]
        }
      ],
      "source": [
        "# FastText\n",
        "print(\"\\n=== FastText ===\")\n",
        "ft_model = FastText(\n",
        "    sentences=tokenized_text, vector_size=100, window=5,\n",
        "    min_count=1, workers=4, sg=1  # sg=1 berarti skip-gram\n",
        ")\n",
        "\n",
        "# Simpan model FastText\n",
        "ft_model.save(\"fasttext_model.model\")\n",
        "\n",
        "# Buat vektor rata-rata untuk setiap dokumen\n",
        "X_ft = np.array([\n",
        "    np.mean(\n",
        "        [ft_model.wv[word] for word in words if word in ft_model.wv]\n",
        "        or [np.zeros(ft_model.vector_size)], axis=0\n",
        "    )\n",
        "    for words in tokenized_text\n",
        "])\n",
        "\n",
        "# Simpan vektor FastText\n",
        "np.save('X_fasttext.npy', X_ft)\n",
        "\n",
        "# PCA\n",
        "print(f\"Jumlah fitur sebelum PCA (FastText): {X_ft.shape[1]}\")\n",
        "pca_ft = PCA(n_components=0.95)\n",
        "X_ft_pca = pca_ft.fit_transform(X_ft)\n",
        "print(f\"Jumlah fitur setelah PCA (FastText): {X_ft_pca.shape[1]}\")\n",
        "\n",
        "# Simpan hasil PCA\n",
        "np.save('X_fasttext_pca.npy', X_ft_pca)\n",
        "with open('pca_fasttext_model.pkl', 'wb') as f:\n",
        "    pickle.dump(pca_ft, f)\n"
      ]
    },
    {
      "cell_type": "code",
      "execution_count": null,
      "metadata": {
        "colab": {
          "base_uri": "https://localhost:8080/"
        },
        "id": "W0riiEzvOYn1",
        "outputId": "81069bc1-9bd8-4b84-f6c3-1c9e43ae11e2"
      },
      "outputs": [
        {
          "output_type": "stream",
          "name": "stdout",
          "text": [
            "Jumlah total fitur gabungan: 3491\n"
          ]
        }
      ],
      "source": [
        "import numpy as np\n",
        "\n",
        "# Load hasil PCA dari masing-masing metode\n",
        "X_tfidf_pca = np.load('X_tfidf_pca.npy')\n",
        "X_bow_pca = np.load('X_bow_pca.npy')\n",
        "X_w2v_pca = np.load('X_w2v_pca.npy')\n",
        "X_ft_pca = np.load('X_fasttext_pca.npy')\n",
        "\n",
        "# Gabungkan semua fitur menjadi satu matriks\n",
        "X_combined = np.concatenate([X_tfidf_pca, X_bow_pca, X_w2v_pca, X_ft_pca], axis=1)\n",
        "\n",
        "# Tampilkan informasi dimensi\n",
        "print(f\"Jumlah total fitur gabungan: {X_combined.shape[1]}\")\n",
        "\n",
        "# Simpan fitur gabungan\n",
        "np.save('X_combined_features.npy', X_combined)\n",
        "\n",
        "import pickle\n",
        "\n",
        "with open('X_combined_features.pkl', 'wb') as f:\n",
        "    pickle.dump(X_combined, f)"
      ]
    },
    {
      "cell_type": "markdown",
      "metadata": {
        "id": "2WVFYv36y0gA"
      },
      "source": [
        "MODEL TRAINING & EVALUATION"
      ]
    },
    {
      "cell_type": "code",
      "execution_count": null,
      "metadata": {
        "colab": {
          "base_uri": "https://localhost:8080/"
        },
        "id": "upF5LNF_On0p",
        "outputId": "d51eacf0-2465-4fcf-c034-a280296f6961"
      },
      "outputs": [
        {
          "output_type": "stream",
          "name": "stdout",
          "text": [
            "\n",
            "=== Evaluasi untuk Gabungan (TF-IDF + BoW + Word2Vec + FastText) ===\n",
            "Akurasi Gabungan (TF-IDF + BoW + Word2Vec + FastText): 0.6278\n",
            "              precision    recall  f1-score   support\n",
            "\n",
            "       Anger       0.49      0.46      0.47        83\n",
            "        Fear       0.44      0.45      0.45        75\n",
            "       Happy       0.76      0.83      0.79       181\n",
            "        Love       0.62      0.61      0.62        72\n",
            "     Sadness       0.62      0.57      0.59       129\n",
            "\n",
            "    accuracy                           0.63       540\n",
            "   macro avg       0.59      0.58      0.58       540\n",
            "weighted avg       0.62      0.63      0.62       540\n",
            "\n"
          ]
        }
      ],
      "source": [
        "from sklearn.model_selection import train_test_split\n",
        "from sklearn.svm import SVC\n",
        "from sklearn.metrics import accuracy_score, classification_report\n",
        "import numpy as np\n",
        "\n",
        "def train_and_evaluate(X, y, label):\n",
        "    print(f\"\\n=== Evaluasi untuk {label} ===\")\n",
        "\n",
        "    # Split data menjadi train, validation, dan test\n",
        "    X_train, X_temp, y_train, y_temp = train_test_split(X, y, test_size=0.2, random_state=42)\n",
        "    X_val, X_test, y_val, y_test = train_test_split(X_temp, y_temp, test_size=0.5, random_state=42)\n",
        "\n",
        "    # Inisialisasi dan latih model SVM linear\n",
        "    model = SVC(kernel='linear', random_state=42)\n",
        "    model.fit(X_train, y_train)\n",
        "\n",
        "    # Prediksi dan evaluasi\n",
        "    y_pred = model.predict(X_test)\n",
        "    acc = accuracy_score(y_test, y_pred)\n",
        "\n",
        "    print(f\"Akurasi {label}: {acc:.4f}\")\n",
        "    print(classification_report(y_test, y_pred, zero_division=0))\n",
        "\n",
        "    return acc\n",
        "\n",
        "# Target label\n",
        "y = df['Emotion']\n",
        "\n",
        "# Load fitur gabungan\n",
        "X_combined = np.load('X_combined_features.npy')\n",
        "\n",
        "# Evaluasi model berdasarkan fitur gabungan\n",
        "acc_combined = train_and_evaluate(X_combined, y, 'Gabungan (TF-IDF + BoW + Word2Vec + FastText)')"
      ]
    },
    {
      "cell_type": "code",
      "execution_count": null,
      "metadata": {
        "colab": {
          "base_uri": "https://localhost:8080/"
        },
        "id": "QjTAyj7kPsdK",
        "outputId": "787eefe1-5041-48ee-d5d8-317c60c37d27"
      },
      "outputs": [
        {
          "output_type": "stream",
          "name": "stdout",
          "text": [
            "\n",
            "=== Evaluasi Cross-Validation untuk Gabungan (TF-IDF + BoW + Word2Vec + FastText) (5-Fold StratifiedKFold) ===\n",
            "Akurasi Rata-rata Gabungan (TF-IDF + BoW + Word2Vec + FastText): 0.5970 (+/- 0.0100)\n",
            "\n",
            "Classification Report (Rata-rata hasil CV):\n",
            "              precision    recall  f1-score   support\n",
            "\n",
            "       Anger       0.41      0.49      0.45       699\n",
            "        Fear       0.42      0.38      0.40       920\n",
            "       Happy       0.75      0.78      0.77      1770\n",
            "        Love       0.63      0.59      0.61       809\n",
            "     Sadness       0.60      0.56      0.58      1202\n",
            "\n",
            "    accuracy                           0.60      5400\n",
            "   macro avg       0.56      0.56      0.56      5400\n",
            "weighted avg       0.60      0.60      0.60      5400\n",
            "\n"
          ]
        }
      ],
      "source": [
        "from sklearn.model_selection import StratifiedKFold, cross_val_score, cross_val_predict\n",
        "from sklearn.metrics import classification_report, accuracy_score\n",
        "from sklearn.svm import SVC\n",
        "import numpy as np\n",
        "\n",
        "def train_and_evaluate_cv(X, y, label, cv_splits=5):\n",
        "    print(f\"\\n=== Evaluasi Cross-Validation untuk {label} ({cv_splits}-Fold StratifiedKFold) ===\")\n",
        "\n",
        "    skf = StratifiedKFold(n_splits=cv_splits, shuffle=True, random_state=42)\n",
        "    model = SVC(kernel='linear', random_state=42)\n",
        "\n",
        "    # Akurasi rata-rata berdasarkan cross_val_score\n",
        "    scores = cross_val_score(model, X, y, cv=skf, scoring='accuracy')\n",
        "    print(f\"Akurasi Rata-rata {label}: {scores.mean():.4f} (+/- {scores.std():.4f})\")\n",
        "\n",
        "    # Evaluasi detail berdasarkan cross_val_predict\n",
        "    y_pred = cross_val_predict(model, X, y, cv=skf)\n",
        "    print(\"\\nClassification Report (Rata-rata hasil CV):\")\n",
        "    print(classification_report(y, y_pred, zero_division=0))\n",
        "\n",
        "    return scores.mean()\n",
        "\n",
        "# Target label\n",
        "y = df['Emotion']\n",
        "\n",
        "# Load fitur gabungan hasil sebelumnya\n",
        "X_combined = np.load('X_combined_features.npy')\n",
        "\n",
        "# Evaluasi model menggunakan fitur gabungan\n",
        "acc_combined = train_and_evaluate_cv(X_combined, y, 'Gabungan (TF-IDF + BoW + Word2Vec + FastText)')"
      ]
    }
  ],
  "metadata": {
    "colab": {
      "provenance": []
    },
    "kernelspec": {
      "display_name": "Python 3",
      "name": "python3"
    },
    "language_info": {
      "name": "python"
    },
    "widgets": {
      "application/vnd.jupyter.widget-state+json": {
        "eb23ab521db2448d8c756c34d6da09c1": {
          "model_module": "@jupyter-widgets/output",
          "model_name": "OutputModel",
          "model_module_version": "1.0.0",
          "state": {
            "_dom_classes": [],
            "_model_module": "@jupyter-widgets/output",
            "_model_module_version": "1.0.0",
            "_model_name": "OutputModel",
            "_view_count": null,
            "_view_module": "@jupyter-widgets/output",
            "_view_module_version": "1.0.0",
            "_view_name": "OutputView",
            "layout": "IPY_MODEL_ccab94c47afa499bbeb009cb7cb3f723",
            "msg_id": "",
            "outputs": [
              {
                "output_type": "display_data",
                "data": {
                  "text/plain": "   \u001b[38;2;249;38;114m━━━━━━━━━━━━━━━━━━━━━━━━━━━━━━━━━━━━━━━\u001b[0m\u001b[38;2;249;38;114m╸\u001b[0m \u001b[32m583.7/590.6 kB\u001b[0m \u001b[31m8.9 MB/s\u001b[0m eta \u001b[36m0:00:01\u001b[0m\n",
                  "text/html": "<pre style=\"white-space:pre;overflow-x:auto;line-height:normal;font-family:Menlo,'DejaVu Sans Mono',consolas,'Courier New',monospace\">   <span style=\"color: #f92672; text-decoration-color: #f92672\">━━━━━━━━━━━━━━━━━━━━━━━━━━━━━━━━━━━━━━━╸</span> <span style=\"color: #008000; text-decoration-color: #008000\">583.7/590.6 kB</span> <span style=\"color: #800000; text-decoration-color: #800000\">8.9 MB/s</span> eta <span style=\"color: #008080; text-decoration-color: #008080\">0:00:01</span>\n</pre>\n"
                },
                "metadata": {}
              }
            ]
          }
        },
        "ccab94c47afa499bbeb009cb7cb3f723": {
          "model_module": "@jupyter-widgets/base",
          "model_name": "LayoutModel",
          "model_module_version": "1.2.0",
          "state": {
            "_model_module": "@jupyter-widgets/base",
            "_model_module_version": "1.2.0",
            "_model_name": "LayoutModel",
            "_view_count": null,
            "_view_module": "@jupyter-widgets/base",
            "_view_module_version": "1.2.0",
            "_view_name": "LayoutView",
            "align_content": null,
            "align_items": null,
            "align_self": null,
            "border": null,
            "bottom": null,
            "display": null,
            "flex": null,
            "flex_flow": null,
            "grid_area": null,
            "grid_auto_columns": null,
            "grid_auto_flow": null,
            "grid_auto_rows": null,
            "grid_column": null,
            "grid_gap": null,
            "grid_row": null,
            "grid_template_areas": null,
            "grid_template_columns": null,
            "grid_template_rows": null,
            "height": null,
            "justify_content": null,
            "justify_items": null,
            "left": null,
            "margin": null,
            "max_height": null,
            "max_width": null,
            "min_height": null,
            "min_width": null,
            "object_fit": null,
            "object_position": null,
            "order": null,
            "overflow": null,
            "overflow_x": null,
            "overflow_y": null,
            "padding": null,
            "right": null,
            "top": null,
            "visibility": null,
            "width": null
          }
        }
      }
    }
  },
  "nbformat": 4,
  "nbformat_minor": 0
}